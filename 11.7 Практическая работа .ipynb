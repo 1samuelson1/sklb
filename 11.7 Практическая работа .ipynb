{
 "cells": [
  {
   "cell_type": "code",
   "execution_count": 1,
   "id": "0a266259",
   "metadata": {},
   "outputs": [],
   "source": [
    "from sympy import *\n",
    "import numpy as np "
   ]
  },
  {
   "cell_type": "code",
   "execution_count": 2,
   "id": "50b53b1c",
   "metadata": {},
   "outputs": [
    {
     "data": {
      "text/latex": [
       "$\\displaystyle \\left[\\begin{matrix}-5\\\\4\\end{matrix}\\right]$"
      ],
      "text/plain": [
       "Matrix([\n",
       "[-5],\n",
       "[ 4]])"
      ]
     },
     "execution_count": 2,
     "metadata": {},
     "output_type": "execute_result"
    }
   ],
   "source": [
    "#Задание 1. Метод обратных матриц\n",
    "#a) \n",
    "#1.\n",
    "x1, x2 = symbols('x1, x2')\n",
    "A = Matrix([[2, 3], [0, 1]])\n",
    "\n",
    "x = Matrix([x1, x2])\n",
    "\n",
    "b = Matrix([2, 4])\n",
    "\n",
    "A_inv = A.inv()\n",
    "\n",
    "x = A_inv * b\n",
    "x"
   ]
  },
  {
   "cell_type": "code",
   "execution_count": 3,
   "id": "30bb9075",
   "metadata": {},
   "outputs": [
    {
     "data": {
      "text/latex": [
       "$\\displaystyle \\left[\\begin{matrix}-12\\\\3\\end{matrix}\\right]$"
      ],
      "text/plain": [
       "Matrix([\n",
       "[-12],\n",
       "[  3]])"
      ]
     },
     "execution_count": 3,
     "metadata": {},
     "output_type": "execute_result"
    }
   ],
   "source": [
    "#a) \n",
    "#2.\n",
    "x, y = symbols('x, y')\n",
    "A = Matrix([[1, 5], [0, 3]])\n",
    "\n",
    "x = Matrix([x, y])\n",
    "\n",
    "b = Matrix([3, 9])\n",
    "\n",
    "A_inv = A.inv()\n",
    "\n",
    "x = A_inv * b\n",
    "x"
   ]
  },
  {
   "cell_type": "code",
   "execution_count": 4,
   "id": "8adfca04",
   "metadata": {},
   "outputs": [
    {
     "data": {
      "text/latex": [
       "$\\displaystyle \\left[\\begin{matrix}1\\\\1\\\\3\\end{matrix}\\right]$"
      ],
      "text/plain": [
       "Matrix([\n",
       "[1],\n",
       "[1],\n",
       "[3]])"
      ]
     },
     "execution_count": 4,
     "metadata": {},
     "output_type": "execute_result"
    }
   ],
   "source": [
    "#б) \n",
    "#1.\n",
    "x, y, z = symbols('x, y, z')\n",
    "A = Matrix([[2, 3, -1], [0, 1, 1], [1, -1, 2]])\n",
    "\n",
    "x = Matrix([x, y, z])\n",
    "\n",
    "b = Matrix([2, 4, 6])\n",
    "\n",
    "A_inv = A.inv()\n",
    "\n",
    "x = A_inv * b\n",
    "x"
   ]
  },
  {
   "cell_type": "code",
   "execution_count": 5,
   "id": "c0203705",
   "metadata": {},
   "outputs": [
    {
     "data": {
      "text/latex": [
       "$\\displaystyle \\left[\\begin{matrix}-15\\\\5\\\\1\\end{matrix}\\right]$"
      ],
      "text/plain": [
       "Matrix([\n",
       "[-15],\n",
       "[  5],\n",
       "[  1]])"
      ]
     },
     "execution_count": 5,
     "metadata": {},
     "output_type": "execute_result"
    }
   ],
   "source": [
    "#б) \n",
    "#2.\n",
    "x, y, z = symbols('x, y, z')\n",
    "A = Matrix([[1, 5, -2], [0, 3, 1], [-4, -6, 2]])\n",
    "\n",
    "x = Matrix([x, y, z])\n",
    "\n",
    "b = Matrix([8, 16, 32])\n",
    "\n",
    "A_inv = A.inv()\n",
    "\n",
    "x = A_inv * b\n",
    "x"
   ]
  },
  {
   "cell_type": "code",
   "execution_count": 7,
   "id": "0ace7b0b",
   "metadata": {},
   "outputs": [
    {
     "name": "stdout",
     "output_type": "stream",
     "text": [
      "[0.49460043 1.29805616]\n"
     ]
    }
   ],
   "source": [
    "#Задание 2. Псевдообратная матрица\n",
    "#подставив координаты новых найденных точек [0.49460043 1.29805616] в функцию MSE, \n",
    "#MSE.subs({a1: theta[0], a2: theta[1]}) мы видим явное уменьшение среднеквадратичной ошибки 6.24190064794816,\n",
    "#а было 6.843547449375\n",
    "a1, a2 = symbols('a1, a2')\n",
    "\n",
    "A = np.array([[1, 2], [5, 3], [2, 4],[3, 7]])\n",
    "\n",
    "#x = Matrix([a1, a2])\n",
    "\n",
    "b = np.array([5, 6, 10, 8])\n",
    "\n",
    "\n",
    "\n",
    "# Высчитываем псевдо обратную матрицу\n",
    "A_pinv = np.linalg.pinv(A)\n",
    "\n",
    "# находим наше приближение тета\n",
    "theta = np.dot(A_pinv, b)\n",
    "\n",
    "# Print \n",
    "print(theta)"
   ]
  },
  {
   "cell_type": "code",
   "execution_count": null,
   "id": "cbec9b54",
   "metadata": {},
   "outputs": [],
   "source": []
  }
 ],
 "metadata": {
  "kernelspec": {
   "display_name": "Python 3 (ipykernel)",
   "language": "python",
   "name": "python3"
  },
  "language_info": {
   "codemirror_mode": {
    "name": "ipython",
    "version": 3
   },
   "file_extension": ".py",
   "mimetype": "text/x-python",
   "name": "python",
   "nbconvert_exporter": "python",
   "pygments_lexer": "ipython3",
   "version": "3.9.12"
  }
 },
 "nbformat": 4,
 "nbformat_minor": 5
}
