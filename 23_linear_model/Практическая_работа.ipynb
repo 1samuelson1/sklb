{
 "cells": [
  {
   "cell_type": "markdown",
   "metadata": {
    "id": "4tc7YC6O8Ev1"
   },
   "source": [
    "# Линейные модели и нейронные сети. Практическая работа"
   ]
  },
  {
   "cell_type": "markdown",
   "metadata": {
    "id": "vSt7qQM58QEB"
   },
   "source": [
    "В этой практической работе пять обязательных задач.\n",
    "\n",
    "Они помогут понять, что вы действительно усвоили материал модуля. \n",
    "\n",
    "Удачи!"
   ]
  },
  {
   "cell_type": "markdown",
   "metadata": {
    "id": "WwzP6BdQ8jbE"
   },
   "source": [
    "## Цели практической работы\n",
    "Потренироваться в обучении модели:\n",
    "- линейной регрессии;\n",
    "- логистической регрессии; \n",
    "- многослойного персептрона."
   ]
  },
  {
   "cell_type": "markdown",
   "metadata": {
    "id": "c4a1bdf2"
   },
   "source": [
    "## Что входит в практическую работу\n",
    "\n",
    "1. Загрузите датасет и ознакомьтесь с ним.\n",
    "2. Обучите линейную регрессию, включая признаки с нулевым весом и без них. Замерьте качество.\n",
    "3. Обучите случайный лес. Замерьте качество.\n",
    "4. Обучите многослойный перцептрон. Замерьте качество.\n",
    "5. Реализуйте стратегию голосования. Замерьте качество."
   ]
  },
  {
   "cell_type": "markdown",
   "metadata": {
    "id": "nPwfq2fISXIk"
   },
   "source": [
    "## Что оценивается\n",
    "\n",
    "* Выполнены все задания. В каждом:\n",
    " * в коде нет ручных перечислений, все действия автоматизированы;\n",
    " * результаты вычислений и применённых операций корректны;\n",
    " * ответы на вопросы, где требуется, корректны и обоснованы; \n",
    " * код читабелен: переменным даны осмысленные названия, соблюдены отступы и правила расстановки пробелов. Стилизация кода соответствует рекомендациям [PEP 8](https://pythonworld.ru/osnovy/pep-8-rukovodstvo-po-napisaniyu-koda-na-python.html).\n",
    " \n",
    "* Репозиторий проекта оформлен корректно:\n",
    " * содержит осмысленные коммиты, содержащие конкретные реализованные фичи;\n",
    " * ветки названы согласно назначению;\n",
    " * файлы, не связанные с проектом, не хранятся в репозитории."
   ]
  },
  {
   "cell_type": "markdown",
   "metadata": {
    "id": "IP-cDDXr-WD0"
   },
   "source": [
    "## Как отправить работу на проверку\n",
    "\n",
    "Сдайте практическую работу этого модуля через систему контроля версий Git сервиса Skillbox GitLab. После загрузки работы на проверку напишите об этом в личном кабинете своему куратору."
   ]
  },
  {
   "cell_type": "markdown",
   "metadata": {
    "id": "dH3j5hM1qCUw"
   },
   "source": [
    "## Задача\n",
    "\n",
    "Постройте модель классификации, определяющую категорию цены / цену подержанного автомобиля в зависимости от характеристик транспортного средства. \n",
    "\n",
    "Используйте датасет из коллекции подержанных автомобилей, выставленных на продажу в Соединенных Штатах. Он уже подготовлен, без выбросов и с категориальными фичами, преобразованными с помощью one hot encoding, и количественными фичами, стандартизированными с помощью скейлеров."
   ]
  },
  {
   "cell_type": "markdown",
   "metadata": {
    "id": "jKgw4zyS8uOJ"
   },
   "source": [
    "### Описание датасета:\n",
    "- `id`— идентификатор записи;\n",
    "- `is_manufacturer_name`— признак производителя автомобиля;\n",
    "\n",
    "- `region_*`— регион;\n",
    "- `x0_*`— тип топлива;\n",
    "- `manufacturer_*`— производитель;\n",
    "- `short_model_*`— сокращённая модель автомобиля;\n",
    "- `title_status_*`— статус;\n",
    "- `transmission_*`— коробка передач;\n",
    "- `state_*`— штат;\n",
    "- `age_category_*`— возрастная категория автомобиля;\n",
    "\n",
    "- `std_scaled_odometer`— количество пройденных миль (после стандартизации);\n",
    "- `year_std`— год выпуска (после стандартизации);\n",
    "- `lat_std`— широта (после стандартизации);\n",
    "- `long_std`— долгота (после стандартизации);\n",
    "- `odometer/price_std`— отношение стоимости к пробегу автомобиля (после стандартизации);\n",
    "- `desc_len_std`— количество символов в тексте объявления о продаже (после стандартизации);\n",
    "- `model_in_desc_std`— количество наименований модели автомобиля в тексте объявления о продаже (после стандартизации);\n",
    "- `model_len_std`— длина наименования автомобиля (после стандартизации);\n",
    "- `model_word_count_std`— количество слов в наименовании автомобиля (после стандартизации);\n",
    "- `month_std`— номер месяца размещения объявления о продаже автомобиля (после стандартизации);\n",
    "- `dayofweek_std`— день недели размещения объявления о продаже автомобиля (после стандартизации);\n",
    "- `diff_years_std`— количество лет между годом производства автомобиля и годом размещения объявления о продаже автомобиля (после стандартизации);\n",
    "- `price`— стоимость;\n",
    "- `price_category`— категория цены."
   ]
  },
  {
   "cell_type": "markdown",
   "metadata": {
    "id": "f8cwJq0l8oyM"
   },
   "source": [
    "## Обязательные задачи"
   ]
  },
  {
   "cell_type": "code",
   "execution_count": 41,
   "metadata": {
    "id": "k-oAmtZi9R8U"
   },
   "outputs": [],
   "source": [
    "import matplotlib.pyplot as plt\n",
    "import pandas as pd\n",
    "import numpy as np\n",
    "from sklearn.linear_model import LogisticRegression, LinearRegression\n",
    "from sklearn.metrics import accuracy_score, confusion_matrix, mean_absolute_error\n",
    "from sklearn.model_selection import train_test_split \n",
    "from sklearn.neural_network import MLPClassifier\n",
    "from sklearn.model_selection import GridSearchCV\n",
    "from sklearn.model_selection import RandomizedSearchCV\n",
    "from sklearn.ensemble import RandomForestClassifier\n",
    "import statistics\n",
    "import random"
   ]
  },
  {
   "cell_type": "code",
   "execution_count": 2,
   "metadata": {
    "colab": {
     "base_uri": "https://localhost:8080/",
     "height": 299
    },
    "id": "a4gi-XV1Jkwc",
    "outputId": "3ba30067-9c82-4b3b-aec1-80b22491ba33"
   },
   "outputs": [
    {
     "data": {
      "text/html": [
       "<div>\n",
       "<style scoped>\n",
       "    .dataframe tbody tr th:only-of-type {\n",
       "        vertical-align: middle;\n",
       "    }\n",
       "\n",
       "    .dataframe tbody tr th {\n",
       "        vertical-align: top;\n",
       "    }\n",
       "\n",
       "    .dataframe thead th {\n",
       "        text-align: right;\n",
       "    }\n",
       "</style>\n",
       "<table border=\"1\" class=\"dataframe\">\n",
       "  <thead>\n",
       "    <tr style=\"text-align: right;\">\n",
       "      <th></th>\n",
       "      <th>id</th>\n",
       "      <th>price</th>\n",
       "      <th>price_category</th>\n",
       "      <th>is_audi</th>\n",
       "      <th>is_ford</th>\n",
       "      <th>is_chevrolet</th>\n",
       "      <th>is_toyota</th>\n",
       "      <th>x0_diesel</th>\n",
       "      <th>x0_electric</th>\n",
       "      <th>x0_gas</th>\n",
       "      <th>...</th>\n",
       "      <th>long_std</th>\n",
       "      <th>year_std</th>\n",
       "      <th>odometer/price_std</th>\n",
       "      <th>desc_len_std</th>\n",
       "      <th>model_in_desc_std</th>\n",
       "      <th>model_len_std</th>\n",
       "      <th>model_word_count_std</th>\n",
       "      <th>month_std</th>\n",
       "      <th>dayofweek_std</th>\n",
       "      <th>diff_years_std</th>\n",
       "    </tr>\n",
       "  </thead>\n",
       "  <tbody>\n",
       "    <tr>\n",
       "      <th>0</th>\n",
       "      <td>7308295377</td>\n",
       "      <td>54990</td>\n",
       "      <td>high</td>\n",
       "      <td>0</td>\n",
       "      <td>0</td>\n",
       "      <td>0</td>\n",
       "      <td>0</td>\n",
       "      <td>1.0</td>\n",
       "      <td>0.0</td>\n",
       "      <td>0.0</td>\n",
       "      <td>...</td>\n",
       "      <td>0.484245</td>\n",
       "      <td>1.322394</td>\n",
       "      <td>-0.510784</td>\n",
       "      <td>0.632075</td>\n",
       "      <td>-0.155788</td>\n",
       "      <td>1.163032</td>\n",
       "      <td>1.910669</td>\n",
       "      <td>-0.615846</td>\n",
       "      <td>1.120284</td>\n",
       "      <td>-1.322394</td>\n",
       "    </tr>\n",
       "    <tr>\n",
       "      <th>1</th>\n",
       "      <td>7316380095</td>\n",
       "      <td>16942</td>\n",
       "      <td>medium</td>\n",
       "      <td>0</td>\n",
       "      <td>1</td>\n",
       "      <td>0</td>\n",
       "      <td>0</td>\n",
       "      <td>0.0</td>\n",
       "      <td>0.0</td>\n",
       "      <td>0.0</td>\n",
       "      <td>...</td>\n",
       "      <td>1.110800</td>\n",
       "      <td>0.695973</td>\n",
       "      <td>-0.402947</td>\n",
       "      <td>-0.646781</td>\n",
       "      <td>-0.155788</td>\n",
       "      <td>0.932087</td>\n",
       "      <td>1.235799</td>\n",
       "      <td>1.623784</td>\n",
       "      <td>-1.374972</td>\n",
       "      <td>-0.695973</td>\n",
       "    </tr>\n",
       "    <tr>\n",
       "      <th>2</th>\n",
       "      <td>7313733749</td>\n",
       "      <td>35590</td>\n",
       "      <td>high</td>\n",
       "      <td>0</td>\n",
       "      <td>0</td>\n",
       "      <td>0</td>\n",
       "      <td>0</td>\n",
       "      <td>0.0</td>\n",
       "      <td>0.0</td>\n",
       "      <td>1.0</td>\n",
       "      <td>...</td>\n",
       "      <td>0.531185</td>\n",
       "      <td>0.852578</td>\n",
       "      <td>-0.514480</td>\n",
       "      <td>0.560744</td>\n",
       "      <td>-0.155788</td>\n",
       "      <td>0.470197</td>\n",
       "      <td>0.560930</td>\n",
       "      <td>-0.615846</td>\n",
       "      <td>-0.376870</td>\n",
       "      <td>-0.852578</td>\n",
       "    </tr>\n",
       "    <tr>\n",
       "      <th>3</th>\n",
       "      <td>7308210929</td>\n",
       "      <td>14500</td>\n",
       "      <td>medium</td>\n",
       "      <td>0</td>\n",
       "      <td>0</td>\n",
       "      <td>0</td>\n",
       "      <td>1</td>\n",
       "      <td>0.0</td>\n",
       "      <td>0.0</td>\n",
       "      <td>1.0</td>\n",
       "      <td>...</td>\n",
       "      <td>0.853562</td>\n",
       "      <td>0.226157</td>\n",
       "      <td>-0.241883</td>\n",
       "      <td>0.180435</td>\n",
       "      <td>-0.155788</td>\n",
       "      <td>-0.915473</td>\n",
       "      <td>-0.788810</td>\n",
       "      <td>-0.615846</td>\n",
       "      <td>1.120284</td>\n",
       "      <td>-0.226157</td>\n",
       "    </tr>\n",
       "    <tr>\n",
       "      <th>4</th>\n",
       "      <td>7303797340</td>\n",
       "      <td>14590</td>\n",
       "      <td>medium</td>\n",
       "      <td>0</td>\n",
       "      <td>0</td>\n",
       "      <td>0</td>\n",
       "      <td>0</td>\n",
       "      <td>0.0</td>\n",
       "      <td>0.0</td>\n",
       "      <td>0.0</td>\n",
       "      <td>...</td>\n",
       "      <td>0.557607</td>\n",
       "      <td>0.069552</td>\n",
       "      <td>-0.333074</td>\n",
       "      <td>0.766366</td>\n",
       "      <td>-0.155788</td>\n",
       "      <td>1.163032</td>\n",
       "      <td>1.910669</td>\n",
       "      <td>-0.615846</td>\n",
       "      <td>0.122182</td>\n",
       "      <td>-0.069552</td>\n",
       "    </tr>\n",
       "  </tbody>\n",
       "</table>\n",
       "<p>5 rows × 1463 columns</p>\n",
       "</div>"
      ],
      "text/plain": [
       "           id  price price_category  is_audi  is_ford  is_chevrolet  \\\n",
       "0  7308295377  54990           high        0        0             0   \n",
       "1  7316380095  16942         medium        0        1             0   \n",
       "2  7313733749  35590           high        0        0             0   \n",
       "3  7308210929  14500         medium        0        0             0   \n",
       "4  7303797340  14590         medium        0        0             0   \n",
       "\n",
       "   is_toyota  x0_diesel  x0_electric  x0_gas  ...  long_std  year_std  \\\n",
       "0          0        1.0          0.0     0.0  ...  0.484245  1.322394   \n",
       "1          0        0.0          0.0     0.0  ...  1.110800  0.695973   \n",
       "2          0        0.0          0.0     1.0  ...  0.531185  0.852578   \n",
       "3          1        0.0          0.0     1.0  ...  0.853562  0.226157   \n",
       "4          0        0.0          0.0     0.0  ...  0.557607  0.069552   \n",
       "\n",
       "   odometer/price_std  desc_len_std  model_in_desc_std  model_len_std  \\\n",
       "0           -0.510784      0.632075          -0.155788       1.163032   \n",
       "1           -0.402947     -0.646781          -0.155788       0.932087   \n",
       "2           -0.514480      0.560744          -0.155788       0.470197   \n",
       "3           -0.241883      0.180435          -0.155788      -0.915473   \n",
       "4           -0.333074      0.766366          -0.155788       1.163032   \n",
       "\n",
       "   model_word_count_std  month_std  dayofweek_std  diff_years_std  \n",
       "0              1.910669  -0.615846       1.120284       -1.322394  \n",
       "1              1.235799   1.623784      -1.374972       -0.695973  \n",
       "2              0.560930  -0.615846      -0.376870       -0.852578  \n",
       "3             -0.788810  -0.615846       1.120284       -0.226157  \n",
       "4              1.910669  -0.615846       0.122182       -0.069552  \n",
       "\n",
       "[5 rows x 1463 columns]"
      ]
     },
     "execution_count": 2,
     "metadata": {},
     "output_type": "execute_result"
    }
   ],
   "source": [
    "df = pd.read_csv('data/vehicles_dataset_prepared.csv')\n",
    "df.head()"
   ]
  },
  {
   "cell_type": "markdown",
   "metadata": {
    "id": "VMmY9Xa-JdRj"
   },
   "source": [
    "**Задача 1. Линейная регрессия**\n",
    "\n",
    "Вспомните задачу по предсказанию стоимости подержанного автомобиля. Попробуйте обучить модель линейной регрессии для предсказания цены автомобиля (колонка `price`). Для этого сделайте шаги:\n",
    "\n",
    "- подготовьте данные: удалите колонки, которые косвенно содержат информацию о целевой переменной (`odometer/price_std`, `price_category`);\n",
    "- разделите выборку на треин и тест в отношении 70/30;\n",
    "- обучите модель линейной регрессии с дефолтными параметрами;\n",
    "- посчитайте значение метрики mae на тестовой выборке для линейной регрессии;\n",
    "- выведите получившиеся коэффициенты линейной регрессии при каждом параметре обучающей выборки с помощью метода `coef_` (есть ли коэффициенты, которые равны нулю? Если есть, выведите названия фичей с нулевым коэффициентом);\n",
    "- удалите фичи, коэффициенты которых равны нулю; переобучите модель; убедитесь, что значение метрики не изменилось.\n",
    "\n"
   ]
  },
  {
   "cell_type": "code",
   "execution_count": 3,
   "metadata": {
    "id": "i1tH2p0nopsf"
   },
   "outputs": [],
   "source": [
    "df_new = df.drop(['odometer/price_std', 'price_category'], axis=1)\n",
    "\n",
    "x = df_new.drop(['price'], axis=1) \n",
    "y = df_new.price\n",
    "\n",
    "train_x, test_x, train_y, test_y = train_test_split(x, y, test_size=0.3, random_state=42)"
   ]
  },
  {
   "cell_type": "code",
   "execution_count": 4,
   "metadata": {},
   "outputs": [
    {
     "data": {
      "text/plain": [
       "LinearRegression()"
      ]
     },
     "execution_count": 4,
     "metadata": {},
     "output_type": "execute_result"
    }
   ],
   "source": [
    "lin_reg = LinearRegression()\n",
    "lin_reg.fit(train_x, train_y)"
   ]
  },
  {
   "cell_type": "code",
   "execution_count": 5,
   "metadata": {},
   "outputs": [
    {
     "data": {
      "text/plain": [
       "4600.341121728319"
      ]
     },
     "execution_count": 5,
     "metadata": {},
     "output_type": "execute_result"
    }
   ],
   "source": [
    "predicted_lin = lin_reg.predict(test_x)\n",
    "mean_absolute_error(test_y, predicted_lin)"
   ]
  },
  {
   "cell_type": "code",
   "execution_count": 6,
   "metadata": {},
   "outputs": [
    {
     "name": "stdout",
     "output_type": "stream",
     "text": [
      "Количество нулей в массиве lin_reg.coef_:  1\n",
      "Фичи с нулевыми коэффициентами:  ['manufacturer_ferrari']\n"
     ]
    }
   ],
   "source": [
    "zero_count = np.count_nonzero(lin_reg.coef_ == 0)\n",
    "\n",
    "print(\"Количество нулей в массиве lin_reg.coef_: \", zero_count)\n",
    "\n",
    "zero_coef_features = [feature_name for feature_name, coef in zip(x, lin_reg.coef_) if coef == 0]\n",
    "\n",
    "print(\"Фичи с нулевыми коэффициентами: \", zero_coef_features)\n",
    "\n",
    "df_new = df_new.drop(['manufacturer_ferrari'], axis=1)\n"
   ]
  },
  {
   "cell_type": "code",
   "execution_count": 7,
   "metadata": {},
   "outputs": [
    {
     "data": {
      "text/plain": [
       "4600.34112154878"
      ]
     },
     "execution_count": 7,
     "metadata": {},
     "output_type": "execute_result"
    }
   ],
   "source": [
    "x = df_new.drop(['price'], axis=1) \n",
    "y = df_new.price\n",
    "train_x, test_x, train_y, test_y = train_test_split(x, y, test_size=0.3, random_state=42)\n",
    "lin_reg = LinearRegression()\n",
    "lin_reg.fit(train_x, train_y)\n",
    "predicted_lin = lin_reg.predict(test_x)\n",
    "mean_absolute_error(test_y, predicted_lin)"
   ]
  },
  {
   "cell_type": "markdown",
   "metadata": {
    "id": "n3d55h5IQZoC"
   },
   "source": [
    "**Задача 2. Логистическая регрессия**\n",
    "\n",
    "Теперь в рамках тех же данных попробуйте предсказать `price_category` с помощью алгоритма логистической регрессии. Предварительно из датафрейма удалите переменные, в которых косвенно содержится информация о целевой переменной (`odometer/price_std`, `price`). \n",
    "\n",
    "Для обученной модели:\n",
    "\n",
    "- рассчитайте и выведите метрику качества (accuracy) на тренировочной выборке;\n",
    "- сделайте предикт на тестовых данных и положите его в переменную `logreg_pred`;\n",
    "- рассчитайте и выведите accuracy и confusion_matrix на тестовой выборке.\n",
    "\n",
    "Обратите внимание, что это задание засчитывается, если: \n",
    "- accuracy на тренировочной выборке > 87%;\n",
    "- accuracy на тестовой выборке > 75.5%.\n",
    "\n",
    "Для улучшения метрики можно преобразовывать входные данные и тюнить параметры логистической регрессии."
   ]
  },
  {
   "cell_type": "code",
   "execution_count": 8,
   "metadata": {
    "id": "tZpWbWaMootx"
   },
   "outputs": [],
   "source": [
    "# Ваш код подготовки данных здесь. Допишите инициализацию входных фичей и целевую переменную\n",
    "x = df.drop(['price', \"odometer/price_std\", 'price_category','manufacturer_ferrari','id'], axis=1) \n",
    "y = df.price_category\n",
    "\n",
    "x_train, x_test, y_train, y_test = train_test_split(x, y, test_size=0.3, random_state=42)"
   ]
  },
  {
   "cell_type": "code",
   "execution_count": 9,
   "metadata": {
    "id": "XQL-04-XpD_n"
   },
   "outputs": [
    {
     "name": "stdout",
     "output_type": "stream",
     "text": [
      "Accuracy on train: 0.8786573592752116\n",
      "Accuracy on test: 0.7612612612612613\n",
      "Matrix on test:\n",
      " [[804  23 170]\n",
      " [ 24 770 159]\n",
      " [149 164 623]]\n"
     ]
    }
   ],
   "source": [
    "\n",
    "# Ваш код обучения моделей здесь\n",
    "\n",
    "log_reg = LogisticRegression(random_state=42, C=3, max_iter=1000, solver='lbfgs')\n",
    "log_reg.fit(x_train, y_train)\n",
    "logreg_pred = log_reg.predict(x_test)\n",
    "logreg_pred_train = log_reg.predict(x_train)\n",
    "\n",
    "print('Accuracy on train:',accuracy_score(y_train, logreg_pred_train))\n",
    "print('Accuracy on test:',accuracy_score(y_test, logreg_pred))\n",
    "print('Matrix on test:\\n', confusion_matrix(y_test, logreg_pred))"
   ]
  },
  {
   "cell_type": "code",
   "execution_count": 10,
   "metadata": {},
   "outputs": [],
   "source": [
    "\n",
    "\n",
    "\n",
    "# a = log_reg.coef_\n",
    "# coef_list = list(zip(x_train.columns, a))\n",
    "# b = pd.DataFrame(coef_list, columns=['Feature', 'Coefficient'])\n",
    "\n",
    "# # Предположим, что коэффициенты хранятся в переменной a\n",
    "# feature_names = x_train.columns  # Замените на реальные названия признаков\n",
    "\n",
    "# plt.figure(figsize=(10, 6))\n",
    "# plt.bar(feature_names, a[0])  # Предполагая, что a содержит коэффициенты для одного класса в задаче многоклассовой классификации\n",
    "\n",
    "# plt.title('Коэффициенты логистической регрессии')\n",
    "# plt.xlabel('Признаки')\n",
    "# plt.ylabel('Значение коэффициента')\n",
    "# plt.xticks(rotation=45)\n",
    "# plt.show()"
   ]
  },
  {
   "cell_type": "code",
   "execution_count": null,
   "metadata": {},
   "outputs": [],
   "source": []
  },
  {
   "cell_type": "code",
   "execution_count": 11,
   "metadata": {},
   "outputs": [
    {
     "data": {
      "image/png": "[encoded data removed]",
      "text/plain": [
       "<Figure size 432x288 with 2 Axes>"
      ]
     },
     "metadata": {
      "needs_background": "light"
     },
     "output_type": "display_data"
    }
   ],
   "source": [
    "import seaborn as sns\n",
    "import matplotlib.pyplot as plt\n",
    "from sklearn.metrics import confusion_matrix\n",
    "\n",
    "# Создание confusion matrix\n",
    "conf_matrix = confusion_matrix(y_test, logreg_pred)\n",
    "\n",
    "# Построение confusion matrix с помощью seaborn\n",
    "sns.heatmap(conf_matrix, annot=True, cmap='Blues', fmt='g')\n",
    "plt.xlabel('Predicted')\n",
    "plt.ylabel('Actual')\n",
    "plt.show()"
   ]
  },
  {
   "cell_type": "code",
   "execution_count": 12,
   "metadata": {},
   "outputs": [],
   "source": [
    "\n",
    "\n",
    "# Определение сетки параметров для кросс-валидации\n",
    "# param_grid = {\n",
    "#     'C': [0.001, 0.01, 0.1, 1, 10, 100],  # Параметр регуляризации\n",
    "#     'penalty': ['l2'],  # Тип регуляризации\n",
    "#     'solver': ['lbfgs', 'saga', 'liblinear']  # Алгоритм оптимизации\n",
    "# }\n",
    "\n",
    "# # Определение метода кросс-валидации\n",
    "# cv = 5  # Количество фолдов в кросс-валидации\n",
    "\n",
    "# # Создание экземпляра GridSearchCV\n",
    "# grid_search = GridSearchCV(\n",
    "#     estimator=log_reg,\n",
    "#     param_grid=param_grid,\n",
    "#     scoring='accuracy',\n",
    "#     verbose=1,\n",
    "#     n_jobs=-1,\n",
    "#     cv=cv\n",
    "# )\n",
    "# Модель для перебора параметров базовой модели\n",
    "# randomized_search = RandomizedSearchCV(\n",
    "#    estimator=log_reg,\n",
    "#    param_distributions=param_grid,\n",
    "#    n_iter=50,\n",
    "#    scoring='accuracy',\n",
    "#    verbose=1,\n",
    "#    n_jobs=-1\n",
    "# )\n",
    "\n",
    "\n",
    "# Обучение модели с использованием кросс-валидации\n",
    "#############estimator.get_params().keys()\n",
    "\n",
    "#1 {'C': 0.001, 'penalty': 'l2', 'solver': 'lbfgs'}\n",
    "#2 {'solver': 'lbfgs', 'penalty': 'l2', 'C': 0.001}"
   ]
  },
  {
   "cell_type": "code",
   "execution_count": 13,
   "metadata": {},
   "outputs": [],
   "source": [
    "#randomized_search.fit(x_train, y_train)  # X - матрица признаков, y - вектор целевых значений"
   ]
  },
  {
   "cell_type": "code",
   "execution_count": 14,
   "metadata": {},
   "outputs": [],
   "source": [
    "# best_params = randomized_search.best_params_\n",
    "# best_params"
   ]
  },
  {
   "cell_type": "code",
   "execution_count": null,
   "metadata": {},
   "outputs": [],
   "source": []
  },
  {
   "cell_type": "markdown",
   "metadata": {
    "id": "sPYGPr0ssX1l"
   },
   "source": [
    "**Задача 3. Многослойный персептрон**\n",
    "\n",
    "Решите задачу, поставленную в предыдущем задании, применив модель многослойного персептрона. С помощью данного алгоритма добейтесь лучших значений точности на тренировочной и тестовой выборках, чем на логистической регрессии. \n",
    "\n",
    "Увеличение точности в данном задании, по сравнению с предыдущим, должно быть больше увеличения 0.01 по метрике accuracy."
   ]
  },
  {
   "cell_type": "code",
   "execution_count": null,
   "metadata": {
    "id": "1CWqF0Pl44IW"
   },
   "outputs": [],
   "source": [
    "mlp = MLPClassifier(max_iter=500)\n",
    "\n",
    "mlp.fit(x_train, y_train)\n",
    "mlp_pred = mlp.predict(x_test)\n",
    "mlp_pred_train = mlp.predict(x_train)\n"
   ]
  },
  {
   "cell_type": "code",
   "execution_count": 27,
   "metadata": {},
   "outputs": [
    {
     "name": "stdout",
     "output_type": "stream",
     "text": [
      "Accuracy on train: 0.999405911183722\n",
      "Accuracy on test: 0.7602217602217602\n",
      "Matrix on test:\n",
      " [[811  23 163]\n",
      " [ 18 734 201]\n",
      " [133 154 649]]\n"
     ]
    }
   ],
   "source": [
    "print('Accuracy on train:',accuracy_score(y_train, mlp_pred_train))\n",
    "print('Accuracy on test:',accuracy_score(y_test, mlp_pred))\n",
    "print('Matrix on test:\\n', confusion_matrix(y_test, mlp_pred))"
   ]
  },
  {
   "cell_type": "code",
   "execution_count": 17,
   "metadata": {},
   "outputs": [],
   "source": [
    "# остановил, очень долго считает, много параметров\n",
    "# param_grid = {\n",
    "#     'hidden_layer_sizes': [(50,),(100,),(50,50),(100,50)],  # пример значений для количества нейронов в скрытых слоях\n",
    "#     'activation': ['logistic', 'tanh', 'relu'],  # пример значений для функций активации\n",
    "#     'solver': ['adam', 'sgd'],  # пример значений для методов оптимизации\n",
    "    \n",
    "# }\n",
    "\n",
    "# # Создание и обучение многослойного перцептрона с использованием GridSearch\n",
    "# mlp = MLPClassifier(max_iter=1000)  # задаем максимальное количество итераций\n",
    "# grid_search = GridSearchCV(mlp, param_grid, n_jobs=-1, cv=5)  # cv=5 означает 5-кратную перекрестную проверку\n",
    "# grid_search.fit(x_train, y_train)\n",
    "# Вывод наилучших параметров\n",
    "# print(\"Наилучшие параметры:\", grid_search.best_params_)\n",
    "\n",
    "# # Предсказание на тестовом наборе с использованием наилучших параметров\n",
    "# y_pred = grid_search.predict(x_test)\n",
    "\n",
    "# # Оценка точности модели с использованием наилучших параметров\n",
    "# accuracy = accuracy_score(y_test, y_pred)\n",
    "# print(\"Точность модели с использованием наилучших параметров:\", accuracy)\n"
   ]
  },
  {
   "cell_type": "code",
   "execution_count": null,
   "metadata": {},
   "outputs": [],
   "source": []
  },
  {
   "cell_type": "markdown",
   "metadata": {
    "id": "6ru5oLsGBOLv"
   },
   "source": [
    "**Задача 4. Сравнение с древовидными моделями**\n",
    "\n",
    "Обучите модель случайного леса на тех же данных для предсказания `price_category`. Сравните качество с моделью логистической регрессии и многослойного персептрона. Словами опишите, какая из моделей в каких случаях работает лучше по результатам на тестовой выборке, обоснуйте свой выбор."
   ]
  },
  {
   "cell_type": "code",
   "execution_count": 28,
   "metadata": {
    "id": "gYFQzRHM41Dg"
   },
   "outputs": [],
   "source": [
    "rf_clf = RandomForestClassifier(random_state=42, max_features='log2', n_estimators=800, n_jobs=-1)"
   ]
  },
  {
   "cell_type": "code",
   "execution_count": 29,
   "metadata": {},
   "outputs": [],
   "source": [
    "\n",
    "rf_clf.fit(x_train, y_train)\n",
    "rf_clf_pred = rf_clf.predict(x_test)\n",
    "rf_clf_pred_train = rf_clf.predict(x_train)"
   ]
  },
  {
   "cell_type": "code",
   "execution_count": 30,
   "metadata": {},
   "outputs": [
    {
     "name": "stdout",
     "output_type": "stream",
     "text": [
      "logreg Accuracy on test: 0.7612612612612613\n",
      "logreg Matrix on test:\n",
      " [[804  23 170]\n",
      " [ 24 770 159]\n",
      " [149 164 623]]\n",
      "MLP Accuracy on test: 0.7602217602217602\n",
      "MLP Matrix on test:\n",
      " [[811  23 163]\n",
      " [ 18 734 201]\n",
      " [133 154 649]]\n",
      "rf_clf Accuracy on train: 1.0\n",
      "rf_clf Accuracy on test: 0.7633402633402634\n",
      "rf_clf Matrix on test:\n",
      " [[807  41 149]\n",
      " [ 15 812 126]\n",
      " [139 213 584]]\n"
     ]
    }
   ],
   "source": [
    "print('logreg Accuracy on test:',accuracy_score(y_test, logreg_pred))\n",
    "print('logreg Matrix on test:\\n', confusion_matrix(y_test, logreg_pred))\n",
    "\n",
    "\n",
    "print('MLP Accuracy on test:',accuracy_score(y_test, mlp_pred))\n",
    "print('MLP Matrix on test:\\n', confusion_matrix(y_test, mlp_pred))\n",
    "\n",
    "\n",
    "print('rf_clf Accuracy on train:',accuracy_score(y_train, rf_clf_pred_train))\n",
    "print('rf_clf Accuracy on test:',accuracy_score(y_test, rf_clf_pred))\n",
    "print('rf_clf Matrix on test:\\n', confusion_matrix(y_test, rf_clf_pred))\n",
    "\n",
    "#rf_clf Accuracy on test: 0.7633402633402634 = n_estimators=800 лучше чем 2000 = Accuracy : 0.7616077616077616\n"
   ]
  },
  {
   "cell_type": "markdown",
   "metadata": {},
   "source": [
    "**я выбираю случайный лес, нет смысла в этом случае использовать сложные конструкции**,\n",
    "когда можно обойтись простыми и быстрыми математически методами , которые проверены и надежны.\n",
    "НО я уверен что МЛП можно натренировать горазно лучше по метрике `акураси`, но потребуется больше времени вычисления. Ниже приведены описания плюсов и минусов этих подходов"
   ]
  },
  {
   "cell_type": "markdown",
   "metadata": {},
   "source": [
    "**Логистическая регрессия:**\n",
    "\n",
    "Преимущества:\n",
    "Простота интерпретации результатов.\n",
    "Эффективность при работе с линейно разделимыми данными.\n",
    "Недостатки:\n",
    "Не способна моделировать сложные нелинейные взаимосвязи в данных.\n",
    "\n",
    "**Многослойный персептрон (нейронная сеть):**\n",
    "\n",
    "Преимущества:\n",
    "Способность моделировать сложные нелинейные взаимосвязи в данных.\n",
    "Гибкость в настройке архитектуры сети.\n",
    "Недостатки:\n",
    "Требует большого количества данных для обучения.\n",
    "Может подвержен переобучению при недостаточной регуляризации.(чтобы модель не переобучалась этот параметр alpha\n",
    "вводит штрафы за слишком большие веса, чем больше значение альфа тем сильнее регуляризация/контроль)\n",
    "\n",
    "**Случайный лес:**\n",
    "\n",
    "Преимущества:\n",
    "Способность обрабатывать большое количество признаков без явного отбора.\n",
    "Устойчивость к переобучению благодаря ансамблю деревьев.\n",
    "Недостатки:\n",
    "Может быть медленным в обучении из-за построения большого количества деревьев.\n",
    "Может быть сложным в интерпретации из-за большого количества деревьев."
   ]
  },
  {
   "cell_type": "markdown",
   "metadata": {
    "id": "-DrgXqjv2Rgk"
   },
   "source": [
    "**Задача 5. Стратегия голосования**\n",
    "\n",
    "Реализуйте стратегию голосования для предсказания целевой переменной.\n",
    "Голосование в задаче классификации — это когда несколько моделей выдают свои предикты, и финальным выбирается тот предикт, который предсказали большинство моделей.\n",
    "\n",
    "Для реализации этой стратегии проделайте следующее:\n",
    "\n",
    "- сохраните предсказания каждой из моделей (случайный лес, многослойный персептрон, логистическая регрессия) для тестовой выборки в датафрейм `pred_df`;\n",
    "- в четвёртую колонку `target` положите тот класс, который предсказало большинство классификаторов; например, если в строке были значения `high, medium, medium`, в `target` нужно положить `medium`;\n",
    "\n",
    "     если в строке три разных класса (`high, medium, low`), придумайте свою стратегию по выбору значения; самая простая стратегия — выбрать рандомно одно значение из трёх;\n",
    "\n",
    "- посчитайте точность предсказания с помощью голосования; выведите значения метрик accuracy и confusion_matrix.\n",
    "\n",
    "Добейтесь значения точности > 78%."
   ]
  },
  {
   "cell_type": "code",
   "execution_count": 170,
   "metadata": {
    "id": "KKTpNxaK5UhX"
   },
   "outputs": [
    {
     "data": {
      "text/html": [
       "<div>\n",
       "<style scoped>\n",
       "    .dataframe tbody tr th:only-of-type {\n",
       "        vertical-align: middle;\n",
       "    }\n",
       "\n",
       "    .dataframe tbody tr th {\n",
       "        vertical-align: top;\n",
       "    }\n",
       "\n",
       "    .dataframe thead th {\n",
       "        text-align: right;\n",
       "    }\n",
       "</style>\n",
       "<table border=\"1\" class=\"dataframe\">\n",
       "  <thead>\n",
       "    <tr style=\"text-align: right;\">\n",
       "      <th></th>\n",
       "      <th>logreg_pred</th>\n",
       "      <th>mlp_pred</th>\n",
       "      <th>rf_clf_pred</th>\n",
       "    </tr>\n",
       "  </thead>\n",
       "  <tbody>\n",
       "    <tr>\n",
       "      <th>0</th>\n",
       "      <td>high</td>\n",
       "      <td>high</td>\n",
       "      <td>high</td>\n",
       "    </tr>\n",
       "    <tr>\n",
       "      <th>1</th>\n",
       "      <td>medium</td>\n",
       "      <td>medium</td>\n",
       "      <td>medium</td>\n",
       "    </tr>\n",
       "    <tr>\n",
       "      <th>2</th>\n",
       "      <td>low</td>\n",
       "      <td>low</td>\n",
       "      <td>low</td>\n",
       "    </tr>\n",
       "    <tr>\n",
       "      <th>3</th>\n",
       "      <td>low</td>\n",
       "      <td>low</td>\n",
       "      <td>low</td>\n",
       "    </tr>\n",
       "    <tr>\n",
       "      <th>4</th>\n",
       "      <td>high</td>\n",
       "      <td>high</td>\n",
       "      <td>high</td>\n",
       "    </tr>\n",
       "    <tr>\n",
       "      <th>5</th>\n",
       "      <td>high</td>\n",
       "      <td>high</td>\n",
       "      <td>high</td>\n",
       "    </tr>\n",
       "    <tr>\n",
       "      <th>6</th>\n",
       "      <td>low</td>\n",
       "      <td>medium</td>\n",
       "      <td>medium</td>\n",
       "    </tr>\n",
       "    <tr>\n",
       "      <th>7</th>\n",
       "      <td>medium</td>\n",
       "      <td>medium</td>\n",
       "      <td>medium</td>\n",
       "    </tr>\n",
       "    <tr>\n",
       "      <th>8</th>\n",
       "      <td>low</td>\n",
       "      <td>low</td>\n",
       "      <td>low</td>\n",
       "    </tr>\n",
       "    <tr>\n",
       "      <th>9</th>\n",
       "      <td>low</td>\n",
       "      <td>low</td>\n",
       "      <td>low</td>\n",
       "    </tr>\n",
       "    <tr>\n",
       "      <th>10</th>\n",
       "      <td>high</td>\n",
       "      <td>high</td>\n",
       "      <td>high</td>\n",
       "    </tr>\n",
       "    <tr>\n",
       "      <th>11</th>\n",
       "      <td>high</td>\n",
       "      <td>high</td>\n",
       "      <td>high</td>\n",
       "    </tr>\n",
       "    <tr>\n",
       "      <th>12</th>\n",
       "      <td>low</td>\n",
       "      <td>low</td>\n",
       "      <td>low</td>\n",
       "    </tr>\n",
       "    <tr>\n",
       "      <th>13</th>\n",
       "      <td>high</td>\n",
       "      <td>high</td>\n",
       "      <td>high</td>\n",
       "    </tr>\n",
       "    <tr>\n",
       "      <th>14</th>\n",
       "      <td>medium</td>\n",
       "      <td>medium</td>\n",
       "      <td>medium</td>\n",
       "    </tr>\n",
       "  </tbody>\n",
       "</table>\n",
       "</div>"
      ],
      "text/plain": [
       "   logreg_pred mlp_pred rf_clf_pred\n",
       "0         high     high        high\n",
       "1       medium   medium      medium\n",
       "2          low      low         low\n",
       "3          low      low         low\n",
       "4         high     high        high\n",
       "5         high     high        high\n",
       "6          low   medium      medium\n",
       "7       medium   medium      medium\n",
       "8          low      low         low\n",
       "9          low      low         low\n",
       "10        high     high        high\n",
       "11        high     high        high\n",
       "12         low      low         low\n",
       "13        high     high        high\n",
       "14      medium   medium      medium"
      ]
     },
     "execution_count": 170,
     "metadata": {},
     "output_type": "execute_result"
    }
   ],
   "source": [
    "# Ваш код здесь\n",
    "pred_df = pd.concat([pd.DataFrame(data=logreg_pred, columns=['logreg_pred']),\n",
    "                     pd.DataFrame(data=mlp_pred, columns=['mlp_pred']),\n",
    "                     pd.DataFrame(data=rf_clf_pred, columns=['rf_clf_pred'])],\n",
    "                    axis=1)\n",
    "\n",
    "\n",
    "pred_df.head(15)"
   ]
  },
  {
   "cell_type": "code",
   "execution_count": 181,
   "metadata": {},
   "outputs": [
    {
     "data": {
      "text/plain": [
       "['high',\n",
       " 'medium',\n",
       " 'low',\n",
       " 'low',\n",
       " 'high',\n",
       " 'high',\n",
       " 'medium',\n",
       " 'medium',\n",
       " 'low',\n",
       " 'low']"
      ]
     },
     "execution_count": 181,
     "metadata": {},
     "output_type": "execute_result"
    }
   ],
   "source": [
    "\n",
    "def find_most_common_value(pred_df):\n",
    "    \n",
    "    \"\"\"\n",
    "    #функция которая возвращает список результатов голосования построчно, пользуйтесь\n",
    "    values_lists  #список для всех построчных категорий .список со списками\n",
    "    price_categ #создал список уник знач из первой колонки\n",
    "    row_values # Получаем значения всех столбцов для текущей строки\n",
    "    counts #  словарь {'high': 0, 'medium': 0, 'low': 0}\n",
    "    random_choice # Делаем случайный выбор из списка если все РАВНЫ 1\n",
    "    \"\"\"\n",
    "    \n",
    "    price_categ = [i for i in pred_df.iloc[:,0].unique()] \n",
    "    voting_list = []\n",
    "    values_lists = [] \n",
    "    \n",
    "    for i in range(pred_df.shape[0]): \n",
    "        row_values = [pred_df.iloc[i, j] for j in range(pred_df.shape[1])]  \n",
    "        values_lists.append(row_values)\n",
    "\n",
    "    for row in values_lists:\n",
    "        \n",
    "        counts = {key: 0 for key in price_categ} \n",
    "        \n",
    "        for category in row:\n",
    "            \n",
    "            counts[category] += 1\n",
    "            \n",
    "        if all(count == 1 for count in counts.values()):\n",
    "            \n",
    "            random_choice = random.choice(row)  \n",
    "            voting_list.append(random_choice)\n",
    "            \n",
    "        else:\n",
    "            \n",
    "            max_count_value = max(counts, key=counts.get) \n",
    "            voting_list.append(max_count_value)\n",
    "        \n",
    "    return voting_list\n",
    "        \n",
    "        \n",
    "find_most_common_value(pred_df)[:10]\n",
    "\n",
    "\n"
   ]
  },
  {
   "cell_type": "code",
   "execution_count": 176,
   "metadata": {},
   "outputs": [
    {
     "name": "stdout",
     "output_type": "stream",
     "text": [
      "target Accuracy on test: 0.7754677754677755\n",
      "target Matrix on test:\n",
      " [[815  24 158]\n",
      " [ 17 785 151]\n",
      " [133 165 638]]\n"
     ]
    }
   ],
   "source": [
    "\n",
    "# Преобразуем список значений в колонку и добавим ее справа в датафрейм\n",
    "pred_df = pred_df.assign(target=find_most_common_value(pred_df))\n",
    "\n",
    "print('target Accuracy on test:',accuracy_score(y_test, pred_df.target))\n",
    "print('target Matrix on test:\\n', confusion_matrix(y_test, pred_df.target))"
   ]
  },
  {
   "cell_type": "markdown",
   "metadata": {},
   "source": [
    "**Итог**\n",
    "в условии требуется достичь > 78% , это возможно при условии тюнинга и улучшения метрики `акураси` на других моделях , но у меня так получилось что в среднем мои показатели одинаковы, с помощью метода госования удалось поднять `акураси` на ~ 1,5% - это тоже **не плохо**!"
   ]
  },
  {
   "cell_type": "code",
   "execution_count": 180,
   "metadata": {},
   "outputs": [
    {
     "name": "stdout",
     "output_type": "stream",
     "text": [
      "Help on function find_most_common_value in module __main__:\n",
      "\n",
      "find_most_common_value(pred_df)\n",
      "    #функция которая возвращает список результатов голосования построчно, пользуйтесь\n",
      "    values_lists  #список для всех построчных категорий .список со списками\n",
      "    price_categ #создал список уник знач из первой колонки\n",
      "    row_values # Получаем значения всех столбцов для текущей строки\n",
      "    counts #  словарь {'high': 0, 'medium': 0, 'low': 0}\n",
      "    random_choice # Делаем случайный выбор из списка если все РАВНЫ 1\n",
      "\n"
     ]
    }
   ],
   "source": [
    "help(find_most_common_value)"
   ]
  },
  {
   "cell_type": "markdown",
   "metadata": {
    "id": "FmuF3_05i2AD"
   },
   "source": [
    "**Примечание**\n",
    "\n",
    "В этой практической работе перед вами встал выбор: включать ли колонку `id`. При удалении данной колонки во время обучения логистической регрессии качество заметно улучшается.\n",
    "\n",
    "Обучать любую модель (будь то логистическая, линейная регрессия или древовидный алгоритм) на данных айдишников не считается хорошей практикой. Как правило, между `id` и целевой переменной не должно быть никаких взаимосвязей. Включая колонку `id` в качества атрибута в обучение, вы стараетесь подогнать результаты своей модели под айдишники записей. Таким образом модель обучится на некотором наборе частных случаев и, возможно, не обратит внимание на общие зависимости.   "
   ]
  },
  {
   "cell_type": "code",
   "execution_count": null,
   "metadata": {},
   "outputs": [],
   "source": []
  }
 ],
 "metadata": {
  "colab": {
   "collapsed_sections": [],
   "provenance": []
  },
  "kernelspec": {
   "display_name": "Python 3 (ipykernel)",
   "language": "python",
   "name": "python3"
  },
  "language_info": {
   "codemirror_mode": {
    "name": "ipython",
    "version": 3
   },
   "file_extension": ".py",
   "mimetype": "text/x-python",
   "name": "python",
   "nbconvert_exporter": "python",
   "pygments_lexer": "ipython3",
   "version": "3.9.12"
  }
 },
 "nbformat": 4,
 "nbformat_minor": 1
}
