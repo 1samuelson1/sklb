{
 "cells": [
  {
   "cell_type": "markdown",
   "id": "20d02d60",
   "metadata": {
    "id": "20d02d60"
   },
   "source": [
    "# Разведочный анализ данных: Data Visualization. Практическая работа"
   ]
  },
  {
   "cell_type": "markdown",
   "id": "zy6qaMPhyAZd",
   "metadata": {
    "id": "zy6qaMPhyAZd"
   },
   "source": [
    "Сдаётся на проверку."
   ]
  },
  {
   "cell_type": "markdown",
   "id": "df9d0fa3",
   "metadata": {
    "id": "df9d0fa3",
    "jp-MarkdownHeadingCollapsed": true,
    "tags": []
   },
   "source": [
    "## Цель практической работы\n",
    "\n",
    "Научиться работать с аномалиями в данных, строить визуализации, а также выявлять зависимости между переменными с помощью библиотеки Matplotlib."
   ]
  },
  {
   "cell_type": "markdown",
   "id": "c4a1bdf2",
   "metadata": {
    "id": "c4a1bdf2"
   },
   "source": [
    "## Что входит в практическую работу\n",
    "\n",
    "1. Загрузить датасет и ознакомиться с ним.\n",
    "2. Исследовать данные на аномальные значения и скорректировать выбросы.\n",
    "3. Построить графики для количественных переменных.\n",
    "4. Построить графики для категориальных переменных.\n",
    "5. Исследовать зависимости в данных. "
   ]
  },
  {
   "cell_type": "markdown",
   "id": "cefde751",
   "metadata": {
    "id": "cefde751"
   },
   "source": [
    "## Что оценивается\n",
    "- Программа выдаёт верный ответ на заданном наборе данных.\n",
    "- Описаны причины выбранного решения, если требуется.\n",
    "- Код читабелен: переменным даны осмысленные названия, отступы и правила расстановки пробелов соблюдены.\n",
    "- При построении графиков название и оси подписаны, выведена легенда, если требуется. \n",
    "- Репозиторий проекта содержит осмысленные коммиты, содержащие конкретные реализованные фичи, ветки названы согласно назначению, лишние файлы не хранятся в репозитории.\n",
    "- В репозитории проекта соблюдена иерархия директорий согласно списку модулей и содержащихся в них тем.\n",
    "- Репозиторий проекта содержит файлы с данными, полученными в результате выполнения практической работы.\n"
   ]
  },
  {
   "cell_type": "markdown",
   "id": "d8cc2cfd",
   "metadata": {
    "id": "d8cc2cfd"
   },
   "source": [
    "## Как отправить работу на проверку\n",
    "Сдайте практическую работу этого модуля через систему контроля версий Git сервиса Skillbox GitLab. После загрузки работы на проверку напишите об этом в личном кабинете своему проверяющему куратору.\n"
   ]
  },
  {
   "cell_type": "markdown",
   "id": "3092d4ea",
   "metadata": {
    "id": "3092d4ea"
   },
   "source": [
    "## Задача\n",
    "\n",
    "Мы продолжим исследовать и готовить данные для этапа моделирования.\n",
    "\n",
    "Вам предстоит работать с небольшой выборкой из коллекции подержанных автомобилей, выставленных на продажу в Соединённых Штатах, представленной в файле `data/vehicles_dataset_upd.csv`. На этих данных вы построите первую модель классификации, определяющую категорию цены подержанного автомобиля в зависимости от характеристик транспортного средства.\n",
    "\n",
    "В этой практической работе вы продолжите знакомиться с визуализацией данных и выявлением аномалий при помощи `matplotlib`, а также выявлением зависимостей в данных.\n",
    "\n",
    "\n",
    "## Описание датасета:\n",
    "- `id`: идентификатор записи;\n",
    "- `url`: URL записи о продаже;\n",
    "- `region`: регион;\n",
    "- `region_url`: URL региона;\n",
    "- `price`: стоимость;\n",
    "- `year`: год выпуска;\n",
    "- `manufacturer`: производитель;\n",
    "- `model`: модель;\n",
    "- `condition`: состояние;\n",
    "- `cylinders`: количество цилиндров;\n",
    "- `fuel`: тип топлива;\n",
    "- `odometer`: количество пройденных миль;\n",
    "- `title_status`: статус;\n",
    "- `transmission`: коробка передач;\n",
    "- `VIN`: идентификационный номер;\n",
    "- `drive`: тип привода;\n",
    "- `size`: размер;\n",
    "- `type`: кузов;\n",
    "- `paint_color`: цвет;\n",
    "- `image_url`: URL изображения;\n",
    "- `description`: указанное описание;\n",
    "- `county`: страна;\n",
    "- `state`: штат;\n",
    "- `lat`: широта;\n",
    "- `long`: долгота;\n",
    "- `posting_date`: дата размещения объявления о продаже;\n",
    "- `price_category`: категория цены.\n"
   ]
  },
  {
   "cell_type": "code",
   "execution_count": 49,
   "id": "859c4d2b",
   "metadata": {
    "ExecuteTime": {
     "end_time": "2022-02-23T19:39:15.915860Z",
     "start_time": "2022-02-23T19:39:15.902436Z"
    },
    "id": "859c4d2b"
   },
   "outputs": [],
   "source": [
    "# Импортируйте необходимые библиотеки\n",
    "import pandas as pd\n",
    "import matplotlib.pyplot as plt\n",
    "from matplotlib.ticker import FormatStrFormatter"
   ]
  },
  {
   "cell_type": "markdown",
   "id": "f8266e27",
   "metadata": {
    "ExecuteTime": {
     "end_time": "2022-01-28T23:12:51.463454Z",
     "start_time": "2022-01-28T23:12:51.458075Z"
    },
    "id": "f8266e27"
   },
   "source": [
    "### Задача 1. Выявление аномалий в стоимости автомобиля\n",
    "\n",
    "1. Загрузите датасет из `data/vehicles_dataset_upd.csv` и выведите первые 5 записей.\n"
   ]
  },
  {
   "cell_type": "code",
   "execution_count": 50,
   "id": "d536ad11",
   "metadata": {
    "ExecuteTime": {
     "end_time": "2022-02-23T19:39:16.357302Z",
     "start_time": "2022-02-23T19:39:16.354246Z"
    },
    "id": "d536ad11"
   },
   "outputs": [
    {
     "data": {
      "text/html": [
       "<div>\n",
       "<style scoped>\n",
       "    .dataframe tbody tr th:only-of-type {\n",
       "        vertical-align: middle;\n",
       "    }\n",
       "\n",
       "    .dataframe tbody tr th {\n",
       "        vertical-align: top;\n",
       "    }\n",
       "\n",
       "    .dataframe thead th {\n",
       "        text-align: right;\n",
       "    }\n",
       "</style>\n",
       "<table border=\"1\" class=\"dataframe\">\n",
       "  <thead>\n",
       "    <tr style=\"text-align: right;\">\n",
       "      <th></th>\n",
       "      <th>id</th>\n",
       "      <th>url</th>\n",
       "      <th>region</th>\n",
       "      <th>region_url</th>\n",
       "      <th>price</th>\n",
       "      <th>year</th>\n",
       "      <th>manufacturer</th>\n",
       "      <th>model</th>\n",
       "      <th>fuel</th>\n",
       "      <th>odometer</th>\n",
       "      <th>title_status</th>\n",
       "      <th>transmission</th>\n",
       "      <th>image_url</th>\n",
       "      <th>description</th>\n",
       "      <th>state</th>\n",
       "      <th>lat</th>\n",
       "      <th>long</th>\n",
       "      <th>posting_date</th>\n",
       "      <th>price_category</th>\n",
       "      <th>date</th>\n",
       "    </tr>\n",
       "  </thead>\n",
       "  <tbody>\n",
       "    <tr>\n",
       "      <th>0</th>\n",
       "      <td>7308295377</td>\n",
       "      <td>https://chattanooga.craigslist.org/ctd/d/chatt...</td>\n",
       "      <td>chattanooga</td>\n",
       "      <td>https://chattanooga.craigslist.org</td>\n",
       "      <td>54990</td>\n",
       "      <td>2020</td>\n",
       "      <td>ram</td>\n",
       "      <td>2500 crew cab big horn</td>\n",
       "      <td>diesel</td>\n",
       "      <td>27442</td>\n",
       "      <td>clean</td>\n",
       "      <td>other</td>\n",
       "      <td>https://images.craigslist.org/00N0N_1xMPvfxRAI...</td>\n",
       "      <td>Carvana is the safer way to buy a car During t...</td>\n",
       "      <td>tn</td>\n",
       "      <td>35.060000</td>\n",
       "      <td>-85.250000</td>\n",
       "      <td>2021-04-17T12:30:50-0400</td>\n",
       "      <td>high</td>\n",
       "      <td>2021-04-17 16:30:50+00:00</td>\n",
       "    </tr>\n",
       "    <tr>\n",
       "      <th>1</th>\n",
       "      <td>7316380095</td>\n",
       "      <td>https://newjersey.craigslist.org/ctd/d/carlsta...</td>\n",
       "      <td>north jersey</td>\n",
       "      <td>https://newjersey.craigslist.org</td>\n",
       "      <td>16942</td>\n",
       "      <td>2016</td>\n",
       "      <td>ford</td>\n",
       "      <td>explorer 4wd 4dr xlt</td>\n",
       "      <td>other</td>\n",
       "      <td>60023</td>\n",
       "      <td>clean</td>\n",
       "      <td>automatic</td>\n",
       "      <td>https://images.craigslist.org/00x0x_26jl9F0cnL...</td>\n",
       "      <td>***Call Us for more information at: 201-635-14...</td>\n",
       "      <td>nj</td>\n",
       "      <td>40.821805</td>\n",
       "      <td>-74.061962</td>\n",
       "      <td>2021-05-03T15:40:21-0400</td>\n",
       "      <td>medium</td>\n",
       "      <td>2021-05-03 19:40:21+00:00</td>\n",
       "    </tr>\n",
       "    <tr>\n",
       "      <th>2</th>\n",
       "      <td>7313733749</td>\n",
       "      <td>https://reno.craigslist.org/ctd/d/atlanta-2017...</td>\n",
       "      <td>reno / tahoe</td>\n",
       "      <td>https://reno.craigslist.org</td>\n",
       "      <td>35590</td>\n",
       "      <td>2017</td>\n",
       "      <td>volkswagen</td>\n",
       "      <td>golf r hatchback</td>\n",
       "      <td>gas</td>\n",
       "      <td>14048</td>\n",
       "      <td>clean</td>\n",
       "      <td>other</td>\n",
       "      <td>https://images.craigslist.org/00y0y_eeZjWeiSfb...</td>\n",
       "      <td>Carvana is the safer way to buy a car During t...</td>\n",
       "      <td>ca</td>\n",
       "      <td>33.779214</td>\n",
       "      <td>-84.411811</td>\n",
       "      <td>2021-04-28T03:52:20-0700</td>\n",
       "      <td>high</td>\n",
       "      <td>2021-04-28 10:52:20+00:00</td>\n",
       "    </tr>\n",
       "    <tr>\n",
       "      <th>3</th>\n",
       "      <td>7308210929</td>\n",
       "      <td>https://fayetteville.craigslist.org/ctd/d/rale...</td>\n",
       "      <td>fayetteville</td>\n",
       "      <td>https://fayetteville.craigslist.org</td>\n",
       "      <td>14500</td>\n",
       "      <td>2013</td>\n",
       "      <td>toyota</td>\n",
       "      <td>rav4</td>\n",
       "      <td>gas</td>\n",
       "      <td>117291</td>\n",
       "      <td>clean</td>\n",
       "      <td>automatic</td>\n",
       "      <td>https://images.craigslist.org/00606_iGe5iXidib...</td>\n",
       "      <td>2013 Toyota RAV4 XLE 4dr SUV     Offered by: R...</td>\n",
       "      <td>nc</td>\n",
       "      <td>35.715954</td>\n",
       "      <td>-78.655304</td>\n",
       "      <td>2021-04-17T10:08:57-0400</td>\n",
       "      <td>medium</td>\n",
       "      <td>2021-04-17 14:08:57+00:00</td>\n",
       "    </tr>\n",
       "    <tr>\n",
       "      <th>4</th>\n",
       "      <td>7316474668</td>\n",
       "      <td>https://newyork.craigslist.org/lgi/cto/d/baldw...</td>\n",
       "      <td>new york city</td>\n",
       "      <td>https://newyork.craigslist.org</td>\n",
       "      <td>21800</td>\n",
       "      <td>2021</td>\n",
       "      <td>nissan</td>\n",
       "      <td>altima</td>\n",
       "      <td>gas</td>\n",
       "      <td>8000</td>\n",
       "      <td>clean</td>\n",
       "      <td>automatic</td>\n",
       "      <td>https://images.craigslist.org/00V0V_3pSOiPZ3Sd...</td>\n",
       "      <td>2021 Nissan Altima Sv with Only 8 K Miles Titl...</td>\n",
       "      <td>ny</td>\n",
       "      <td>40.654800</td>\n",
       "      <td>-73.609700</td>\n",
       "      <td>2021-05-03T18:32:06-0400</td>\n",
       "      <td>medium</td>\n",
       "      <td>2021-05-03 22:32:06+00:00</td>\n",
       "    </tr>\n",
       "  </tbody>\n",
       "</table>\n",
       "</div>"
      ],
      "text/plain": [
       "           id                                                url  \\\n",
       "0  7308295377  https://chattanooga.craigslist.org/ctd/d/chatt...   \n",
       "1  7316380095  https://newjersey.craigslist.org/ctd/d/carlsta...   \n",
       "2  7313733749  https://reno.craigslist.org/ctd/d/atlanta-2017...   \n",
       "3  7308210929  https://fayetteville.craigslist.org/ctd/d/rale...   \n",
       "4  7316474668  https://newyork.craigslist.org/lgi/cto/d/baldw...   \n",
       "\n",
       "          region                           region_url  price  year  \\\n",
       "0    chattanooga   https://chattanooga.craigslist.org  54990  2020   \n",
       "1   north jersey     https://newjersey.craigslist.org  16942  2016   \n",
       "2   reno / tahoe          https://reno.craigslist.org  35590  2017   \n",
       "3   fayetteville  https://fayetteville.craigslist.org  14500  2013   \n",
       "4  new york city       https://newyork.craigslist.org  21800  2021   \n",
       "\n",
       "  manufacturer                   model    fuel  odometer title_status  \\\n",
       "0          ram  2500 crew cab big horn  diesel     27442        clean   \n",
       "1         ford    explorer 4wd 4dr xlt   other     60023        clean   \n",
       "2   volkswagen        golf r hatchback     gas     14048        clean   \n",
       "3       toyota                    rav4     gas    117291        clean   \n",
       "4       nissan                  altima     gas      8000        clean   \n",
       "\n",
       "  transmission                                          image_url  \\\n",
       "0        other  https://images.craigslist.org/00N0N_1xMPvfxRAI...   \n",
       "1    automatic  https://images.craigslist.org/00x0x_26jl9F0cnL...   \n",
       "2        other  https://images.craigslist.org/00y0y_eeZjWeiSfb...   \n",
       "3    automatic  https://images.craigslist.org/00606_iGe5iXidib...   \n",
       "4    automatic  https://images.craigslist.org/00V0V_3pSOiPZ3Sd...   \n",
       "\n",
       "                                         description state        lat  \\\n",
       "0  Carvana is the safer way to buy a car During t...    tn  35.060000   \n",
       "1  ***Call Us for more information at: 201-635-14...    nj  40.821805   \n",
       "2  Carvana is the safer way to buy a car During t...    ca  33.779214   \n",
       "3  2013 Toyota RAV4 XLE 4dr SUV     Offered by: R...    nc  35.715954   \n",
       "4  2021 Nissan Altima Sv with Only 8 K Miles Titl...    ny  40.654800   \n",
       "\n",
       "        long              posting_date price_category  \\\n",
       "0 -85.250000  2021-04-17T12:30:50-0400           high   \n",
       "1 -74.061962  2021-05-03T15:40:21-0400         medium   \n",
       "2 -84.411811  2021-04-28T03:52:20-0700           high   \n",
       "3 -78.655304  2021-04-17T10:08:57-0400         medium   \n",
       "4 -73.609700  2021-05-03T18:32:06-0400         medium   \n",
       "\n",
       "                        date  \n",
       "0  2021-04-17 16:30:50+00:00  \n",
       "1  2021-05-03 19:40:21+00:00  \n",
       "2  2021-04-28 10:52:20+00:00  \n",
       "3  2021-04-17 14:08:57+00:00  \n",
       "4  2021-05-03 22:32:06+00:00  "
      ]
     },
     "execution_count": 50,
     "metadata": {},
     "output_type": "execute_result"
    }
   ],
   "source": [
    "# Ваш код здесь\n",
    "df = pd.read_csv(\"data/vehicles_dataset_upd.csv\")\n",
    "df.head()\n"
   ]
  },
  {
   "cell_type": "code",
   "execution_count": null,
   "id": "c33c4d3e",
   "metadata": {},
   "outputs": [],
   "source": []
  },
  {
   "cell_type": "markdown",
   "id": "b53740bc",
   "metadata": {
    "id": "b53740bc"
   },
   "source": [
    "2. Постройте гистограмму распределения стоимости автомобиля, настройте размер фигуры — 8x5, цвет — `indigo`.\n",
    "Не забудьте подписать название графика и оси."
   ]
  },
  {
   "cell_type": "code",
   "execution_count": 51,
   "id": "ba31752e",
   "metadata": {
    "ExecuteTime": {
     "end_time": "2022-02-23T19:39:17.014992Z",
     "start_time": "2022-02-23T19:39:17.011993Z"
    },
    "id": "ba31752e"
   },
   "outputs": [
    {
     "data": {
      "image/png": "[encoded data removed]",
      "text/plain": [
       "<Figure size 576x360 with 1 Axes>"
      ]
     },
     "metadata": {
      "needs_background": "light"
     },
     "output_type": "display_data"
    }
   ],
   "source": [
    "# Ваш код здесь\n",
    "plt.figure(figsize=(8,5))\n",
    "plt.hist(df.price,bins=1000,color=\"indigo\")\n",
    "plt.xlabel(\"Price\")\n",
    "plt.ylabel(\"Frequency\")\n",
    "plt.title(\"Price distribution\");"
   ]
  },
  {
   "cell_type": "markdown",
   "id": "c0e0f6de",
   "metadata": {
    "id": "c0e0f6de"
   },
   "source": [
    "3. График гистограммы в таком виде не дает представления о реальном распределении, но из него можно сделать вывод о наличии выбросов.\n",
    "Постройте «ящик с усами» для стоимости автобомиля, настройте размер фигуры — 5x15, а также примените форматирование для отображения значений стоимости.\n",
    "Не забудьте подписать название графика и оси."
   ]
  },
  {
   "cell_type": "code",
   "execution_count": 52,
   "id": "dc86a576",
   "metadata": {
    "ExecuteTime": {
     "end_time": "2022-02-23T19:39:17.644766Z",
     "start_time": "2022-02-23T19:39:17.639793Z"
    },
    "id": "dc86a576"
   },
   "outputs": [
    {
     "data": {
      "image/png": "[encoded data removed]",
      "text/plain": [
       "<Figure size 360x1080 with 1 Axes>"
      ]
     },
     "metadata": {
      "needs_background": "light"
     },
     "output_type": "display_data"
    }
   ],
   "source": [
    "# Ваш код здесь\n",
    "fig,ax = plt.subplots(figsize=(5,15))\n",
    "ax.boxplot(df.price)\n",
    "ax.set_ylabel(\"Price\")\n",
    "ax.set_title(\"Boxplot for price\")\n",
    "ax.yaxis.set_major_formatter(FormatStrFormatter(\"%.0f\"))\n"
   ]
  },
  {
   "cell_type": "markdown",
   "id": "91a0b77f",
   "metadata": {
    "id": "91a0b77f"
   },
   "source": [
    "4. Из «ящика с усами» можно увидеть, что выбросы действительно существуют, но из-за их большого разброса основаная часть графика («ящик») почти незаметна.\n",
    "Выведете описательные статистики стоимости автомобиля, чтобы изучить значения, обозначающие границы «ящика». С помощью `apply(lambda x: f\"{x:0.3f}\")` отобразите значения в удобном для восприятия виде."
   ]
  },
  {
   "cell_type": "code",
   "execution_count": 53,
   "id": "319c1b18",
   "metadata": {
    "id": "319c1b18"
   },
   "outputs": [
    {
     "data": {
      "text/plain": [
       "count        9868.000\n",
       "mean        20602.005\n",
       "std        125437.186\n",
       "min           500.000\n",
       "25%          7800.000\n",
       "50%         15590.000\n",
       "75%         27990.000\n",
       "max      12345678.000\n",
       "Name: price, dtype: object"
      ]
     },
     "execution_count": 53,
     "metadata": {},
     "output_type": "execute_result"
    }
   ],
   "source": [
    "# Ваш код здесь\n",
    "df.price.describe().apply(lambda x: f\"{x:0.3f}\")"
   ]
  },
  {
   "cell_type": "markdown",
   "id": "415c94a0",
   "metadata": {
    "id": "415c94a0"
   },
   "source": [
    "5. Выведете границы для нормальных значений стоимости автомобиля, используя интерквартильный размах. Посмотрите, входят ли минимальное и максимальное значения в интервал между полученными границами."
   ]
  },
  {
   "cell_type": "code",
   "execution_count": 54,
   "id": "32a9d248",
   "metadata": {},
   "outputs": [
    {
     "name": "stdout",
     "output_type": "stream",
     "text": [
      "25% =  7800.0 , 75% =  27990.0\n"
     ]
    }
   ],
   "source": [
    "boundaries = (df.price.quantile(0.25), df.price.quantile(0.75))\n",
    "print(\"25% = \", boundaries[0], \", 75% = \", boundaries[1])"
   ]
  },
  {
   "cell_type": "markdown",
   "id": "fb88d853",
   "metadata": {
    "id": "fb88d853"
   },
   "source": [
    "6. Посчитайте и выведете количество выбросов в стоимости автомобиля. "
   ]
  },
  {
   "cell_type": "code",
   "execution_count": 55,
   "id": "1049a388",
   "metadata": {
    "ExecuteTime": {
     "end_time": "2022-02-23T20:27:20.997324Z",
     "start_time": "2022-02-23T20:27:20.993269Z"
    },
    "id": "1049a388"
   },
   "outputs": [
    {
     "name": "stdout",
     "output_type": "stream",
     "text": [
      "Количество выбросов: 4885\n"
     ]
    }
   ],
   "source": [
    "# Ваш код здесь\n",
    "is_outlier = (df.price < boundaries[0]) | (df.price > boundaries[1])\n",
    "print(\"Количество выбросов:\", is_outlier.sum())\n",
    "\n"
   ]
  },
  {
   "cell_type": "markdown",
   "id": "bd49bbd5",
   "metadata": {
    "id": "bd49bbd5"
   },
   "source": [
    "7. Выведете записи, в которых стоимость автомобиля попадает в выбросы, отсортированные по стоимости. Посмотрите на данные и подумайте, могут ли данные выбросы описывать особые значения категории цены или других признаков или действительно являются выбросами."
   ]
  },
  {
   "cell_type": "code",
   "execution_count": 56,
   "id": "5529a194",
   "metadata": {
    "ExecuteTime": {
     "end_time": "2022-02-23T20:27:24.236934Z",
     "start_time": "2022-02-23T20:27:24.233607Z"
    },
    "id": "5529a194"
   },
   "outputs": [
    {
     "data": {
      "text/plain": [
       "5079         500\n",
       "868          500\n",
       "327          500\n",
       "981          500\n",
       "1471         500\n",
       "          ...   \n",
       "6035      197999\n",
       "290       239995\n",
       "5585      304995\n",
       "9663     1000000\n",
       "6239    12345678\n",
       "Name: price, Length: 4885, dtype: int64"
      ]
     },
     "execution_count": 56,
     "metadata": {},
     "output_type": "execute_result"
    }
   ],
   "source": [
    "# Ваш код здесь\n",
    "list_of_id_outliers = is_outlier.loc[is_outlier == True].index\n",
    "df_sorted_outliers = df.price.loc[list_of_id_outliers].sort_values()\n",
    "df_sorted_outliers\n"
   ]
  },
  {
   "cell_type": "markdown",
   "id": "af1ef130",
   "metadata": {
    "id": "af1ef130"
   },
   "source": [
    "8. Выведете последние 15 записей в отсортированном ранее датафрейме с выбросами, чтобы изучить признаки для наиболее дорогих автомобилей.\n"
   ]
  },
  {
   "cell_type": "code",
   "execution_count": 57,
   "id": "50cb03d7",
   "metadata": {
    "ExecuteTime": {
     "end_time": "2022-02-23T20:30:38.256060Z",
     "start_time": "2022-02-23T20:30:38.252795Z"
    },
    "id": "50cb03d7"
   },
   "outputs": [
    {
     "data": {
      "text/html": [
       "<div>\n",
       "<style scoped>\n",
       "    .dataframe tbody tr th:only-of-type {\n",
       "        vertical-align: middle;\n",
       "    }\n",
       "\n",
       "    .dataframe tbody tr th {\n",
       "        vertical-align: top;\n",
       "    }\n",
       "\n",
       "    .dataframe thead th {\n",
       "        text-align: right;\n",
       "    }\n",
       "</style>\n",
       "<table border=\"1\" class=\"dataframe\">\n",
       "  <thead>\n",
       "    <tr style=\"text-align: right;\">\n",
       "      <th></th>\n",
       "      <th>id</th>\n",
       "      <th>url</th>\n",
       "      <th>region</th>\n",
       "      <th>region_url</th>\n",
       "      <th>price</th>\n",
       "      <th>year</th>\n",
       "      <th>manufacturer</th>\n",
       "      <th>model</th>\n",
       "      <th>fuel</th>\n",
       "      <th>odometer</th>\n",
       "      <th>title_status</th>\n",
       "      <th>transmission</th>\n",
       "      <th>image_url</th>\n",
       "      <th>description</th>\n",
       "      <th>state</th>\n",
       "      <th>lat</th>\n",
       "      <th>long</th>\n",
       "      <th>posting_date</th>\n",
       "      <th>price_category</th>\n",
       "      <th>date</th>\n",
       "    </tr>\n",
       "  </thead>\n",
       "  <tbody>\n",
       "    <tr>\n",
       "      <th>4073</th>\n",
       "      <td>7311841843</td>\n",
       "      <td>https://albuquerque.craigslist.org/ctd/d/albuq...</td>\n",
       "      <td>albuquerque</td>\n",
       "      <td>https://albuquerque.craigslist.org</td>\n",
       "      <td>120000</td>\n",
       "      <td>2021</td>\n",
       "      <td>chevrolet</td>\n",
       "      <td>corvette c8 z51</td>\n",
       "      <td>gas</td>\n",
       "      <td>10</td>\n",
       "      <td>clean</td>\n",
       "      <td>automatic</td>\n",
       "      <td>https://images.craigslist.org/00z0z_99zXyVvNmm...</td>\n",
       "      <td>New arrival  Z51  Call or text annamarie for d...</td>\n",
       "      <td>nm</td>\n",
       "      <td>35.081800</td>\n",
       "      <td>-106.648200</td>\n",
       "      <td>2021-04-24T08:38:45-0600</td>\n",
       "      <td>high</td>\n",
       "      <td>2021-04-24 14:38:45+00:00</td>\n",
       "    </tr>\n",
       "    <tr>\n",
       "      <th>9072</th>\n",
       "      <td>7308732637</td>\n",
       "      <td>https://evansville.craigslist.org/ctd/d/evansv...</td>\n",
       "      <td>evansville</td>\n",
       "      <td>https://evansville.craigslist.org</td>\n",
       "      <td>123456</td>\n",
       "      <td>2006</td>\n",
       "      <td>jeep</td>\n",
       "      <td>wrangler</td>\n",
       "      <td>gas</td>\n",
       "      <td>12345</td>\n",
       "      <td>clean</td>\n",
       "      <td>other</td>\n",
       "      <td>https://images.craigslist.org/00I0I_2IkqjY69Zq...</td>\n",
       "      <td>Very Nice TJ jeeps and a few LJ jeep wranglers...</td>\n",
       "      <td>in</td>\n",
       "      <td>38.025845</td>\n",
       "      <td>-87.596457</td>\n",
       "      <td>2021-04-18T09:55:42-0500</td>\n",
       "      <td>high</td>\n",
       "      <td>2021-04-18 14:55:42+00:00</td>\n",
       "    </tr>\n",
       "    <tr>\n",
       "      <th>1674</th>\n",
       "      <td>7303398175</td>\n",
       "      <td>https://pullman.craigslist.org/cto/d/pullman-6...</td>\n",
       "      <td>pullman / moscow</td>\n",
       "      <td>https://pullman.craigslist.org</td>\n",
       "      <td>123456</td>\n",
       "      <td>1995</td>\n",
       "      <td>other</td>\n",
       "      <td>cadvwrambuick</td>\n",
       "      <td>gas</td>\n",
       "      <td>283995</td>\n",
       "      <td>missing</td>\n",
       "      <td>other</td>\n",
       "      <td>https://images.craigslist.org/00i0i_5iBwIawLgG...</td>\n",
       "      <td>I have several cars to get rid of:  A '65 Ramb...</td>\n",
       "      <td>id</td>\n",
       "      <td>46.735200</td>\n",
       "      <td>-117.172900</td>\n",
       "      <td>2021-04-07T15:57:23-0700</td>\n",
       "      <td>high</td>\n",
       "      <td>2021-04-07 22:57:23+00:00</td>\n",
       "    </tr>\n",
       "    <tr>\n",
       "      <th>2963</th>\n",
       "      <td>7308463617</td>\n",
       "      <td>https://jacksonville.craigslist.org/cto/d/pont...</td>\n",
       "      <td>jacksonville</td>\n",
       "      <td>https://jacksonville.craigslist.org</td>\n",
       "      <td>129000</td>\n",
       "      <td>2018</td>\n",
       "      <td>mercedes-benz</td>\n",
       "      <td>benz amg gt c</td>\n",
       "      <td>gas</td>\n",
       "      <td>4000</td>\n",
       "      <td>clean</td>\n",
       "      <td>automatic</td>\n",
       "      <td>https://images.craigslist.org/00C0C_bN8j4IcEqW...</td>\n",
       "      <td>Beautiful car in perfect condition. Very rare ...</td>\n",
       "      <td>fl</td>\n",
       "      <td>30.122300</td>\n",
       "      <td>-81.362700</td>\n",
       "      <td>2021-04-17T16:48:42-0400</td>\n",
       "      <td>high</td>\n",
       "      <td>2021-04-17 20:48:42+00:00</td>\n",
       "    </tr>\n",
       "    <tr>\n",
       "      <th>5076</th>\n",
       "      <td>7314445453</td>\n",
       "      <td>https://boston.craigslist.org/gbs/ctd/d/methue...</td>\n",
       "      <td>boston</td>\n",
       "      <td>https://boston.craigslist.org</td>\n",
       "      <td>129995</td>\n",
       "      <td>2007</td>\n",
       "      <td>ferrari</td>\n",
       "      <td>f430 spider</td>\n",
       "      <td>gas</td>\n",
       "      <td>12351</td>\n",
       "      <td>clean</td>\n",
       "      <td>manual</td>\n",
       "      <td>https://images.craigslist.org/00q0q_3DqREXHC0j...</td>\n",
       "      <td>2007 Ferrari F430 Spider 2dr Convertible     O...</td>\n",
       "      <td>ma</td>\n",
       "      <td>42.756205</td>\n",
       "      <td>-71.210258</td>\n",
       "      <td>2021-04-29T14:45:08-0400</td>\n",
       "      <td>high</td>\n",
       "      <td>2021-04-29 18:45:08+00:00</td>\n",
       "    </tr>\n",
       "    <tr>\n",
       "      <th>6471</th>\n",
       "      <td>7312384300</td>\n",
       "      <td>https://orlando.craigslist.org/ctd/d/orlando-2...</td>\n",
       "      <td>orlando</td>\n",
       "      <td>https://orlando.craigslist.org</td>\n",
       "      <td>129999</td>\n",
       "      <td>2018</td>\n",
       "      <td>mercedes-benz</td>\n",
       "      <td>maybach s560</td>\n",
       "      <td>gas</td>\n",
       "      <td>6000</td>\n",
       "      <td>clean</td>\n",
       "      <td>automatic</td>\n",
       "      <td>https://images.craigslist.org/00u0u_fKyDNpMeQR...</td>\n",
       "      <td>Serious/ready buyers, please call or text @ (4...</td>\n",
       "      <td>fl</td>\n",
       "      <td>28.463700</td>\n",
       "      <td>-81.394800</td>\n",
       "      <td>2021-04-25T12:58:01-0400</td>\n",
       "      <td>high</td>\n",
       "      <td>2021-04-25 16:58:01+00:00</td>\n",
       "    </tr>\n",
       "    <tr>\n",
       "      <th>8904</th>\n",
       "      <td>7314817013</td>\n",
       "      <td>https://sandiego.craigslist.org/csd/ctd/d/dall...</td>\n",
       "      <td>san diego</td>\n",
       "      <td>https://sandiego.craigslist.org</td>\n",
       "      <td>139950</td>\n",
       "      <td>2017</td>\n",
       "      <td>other</td>\n",
       "      <td>Mclaren 570GT W/ Upgrades</td>\n",
       "      <td>gas</td>\n",
       "      <td>13000</td>\n",
       "      <td>clean</td>\n",
       "      <td>automatic</td>\n",
       "      <td>https://images.craigslist.org/00N0N_2egaCVi4pq...</td>\n",
       "      <td>SPECIALTYEXOTICS.COMCALL/TXT 469-215-1902FREE ...</td>\n",
       "      <td>ca</td>\n",
       "      <td>32.790400</td>\n",
       "      <td>-96.804400</td>\n",
       "      <td>2021-04-30T08:20:20-0700</td>\n",
       "      <td>high</td>\n",
       "      <td>2021-04-30 15:20:20+00:00</td>\n",
       "    </tr>\n",
       "    <tr>\n",
       "      <th>4183</th>\n",
       "      <td>7316319465</td>\n",
       "      <td>https://portland.craigslist.org/clc/ctd/d/glad...</td>\n",
       "      <td>portland</td>\n",
       "      <td>https://portland.craigslist.org</td>\n",
       "      <td>149990</td>\n",
       "      <td>2015</td>\n",
       "      <td>mercedes-benz</td>\n",
       "      <td>sprinter 3500 airs</td>\n",
       "      <td>diesel</td>\n",
       "      <td>49291</td>\n",
       "      <td>clean</td>\n",
       "      <td>automatic</td>\n",
       "      <td>https://images.craigslist.org/00B0B_79v5I132cL...</td>\n",
       "      <td>2015 Mercedes-Benz Sprinter 3500 Airstream Int...</td>\n",
       "      <td>or</td>\n",
       "      <td>45.382346</td>\n",
       "      <td>-122.605132</td>\n",
       "      <td>2021-05-03T11:04:09-0700</td>\n",
       "      <td>high</td>\n",
       "      <td>2021-05-03 18:04:09+00:00</td>\n",
       "    </tr>\n",
       "    <tr>\n",
       "      <th>8720</th>\n",
       "      <td>7313664504</td>\n",
       "      <td>https://austin.craigslist.org/cto/d/austin-sup...</td>\n",
       "      <td>austin</td>\n",
       "      <td>https://austin.craigslist.org</td>\n",
       "      <td>150000</td>\n",
       "      <td>2006</td>\n",
       "      <td>other</td>\n",
       "      <td>Peterbilt 378</td>\n",
       "      <td>diesel</td>\n",
       "      <td>1234</td>\n",
       "      <td>clean</td>\n",
       "      <td>manual</td>\n",
       "      <td>https://images.craigslist.org/00v0v_ejAvqrK3iP...</td>\n",
       "      <td>Selling a Wonderful Super Dump! 2006 Peterbilt...</td>\n",
       "      <td>tx</td>\n",
       "      <td>30.364900</td>\n",
       "      <td>-97.682700</td>\n",
       "      <td>2021-04-27T21:01:28-0500</td>\n",
       "      <td>high</td>\n",
       "      <td>2021-04-28 02:01:28+00:00</td>\n",
       "    </tr>\n",
       "    <tr>\n",
       "      <th>9042</th>\n",
       "      <td>7306718413</td>\n",
       "      <td>https://desmoines.craigslist.org/ctd/d/portlan...</td>\n",
       "      <td>des moines</td>\n",
       "      <td>https://desmoines.craigslist.org</td>\n",
       "      <td>163540</td>\n",
       "      <td>2020</td>\n",
       "      <td>mercedes-benz</td>\n",
       "      <td>other</td>\n",
       "      <td>other</td>\n",
       "      <td>6318</td>\n",
       "      <td>clean</td>\n",
       "      <td>automatic</td>\n",
       "      <td>https://images.craigslist.org/00y0y_i26NvL7pZC...</td>\n",
       "      <td>2020 *** Mercedes-Benz G-Class G63 AMG***     ...</td>\n",
       "      <td>ia</td>\n",
       "      <td>45.494265</td>\n",
       "      <td>-122.579192</td>\n",
       "      <td>2021-04-14T11:26:24-0500</td>\n",
       "      <td>high</td>\n",
       "      <td>2021-04-14 16:26:24+00:00</td>\n",
       "    </tr>\n",
       "    <tr>\n",
       "      <th>6035</th>\n",
       "      <td>7315323093</td>\n",
       "      <td>https://daytona.craigslist.org/ctd/d/orlando-2...</td>\n",
       "      <td>daytona beach</td>\n",
       "      <td>https://daytona.craigslist.org</td>\n",
       "      <td>197999</td>\n",
       "      <td>2015</td>\n",
       "      <td>other</td>\n",
       "      <td>Lamborghini Huracan</td>\n",
       "      <td>gas</td>\n",
       "      <td>33875</td>\n",
       "      <td>clean</td>\n",
       "      <td>other</td>\n",
       "      <td>https://images.craigslist.org/01717_55Ai9omMq5...</td>\n",
       "      <td>CREDIT AMNESTY!  SE HABLA ESPANOL !!OPEN SUNDA...</td>\n",
       "      <td>fl</td>\n",
       "      <td>28.466088</td>\n",
       "      <td>-81.396429</td>\n",
       "      <td>2021-05-01T11:48:44-0400</td>\n",
       "      <td>high</td>\n",
       "      <td>2021-05-01 15:48:44+00:00</td>\n",
       "    </tr>\n",
       "    <tr>\n",
       "      <th>290</th>\n",
       "      <td>7310897583</td>\n",
       "      <td>https://tucson.craigslist.org/ctd/d/tucson-201...</td>\n",
       "      <td>tucson</td>\n",
       "      <td>https://tucson.craigslist.org</td>\n",
       "      <td>239995</td>\n",
       "      <td>2017</td>\n",
       "      <td>ferrari</td>\n",
       "      <td>488 gtb</td>\n",
       "      <td>gas</td>\n",
       "      <td>6012</td>\n",
       "      <td>clean</td>\n",
       "      <td>automatic</td>\n",
       "      <td>https://images.craigslist.org/00t0t_dN5Wr8nfOx...</td>\n",
       "      <td>2017 Ferrari 488 GTB Coupe2017 Ferrari 488 GTB...</td>\n",
       "      <td>az</td>\n",
       "      <td>32.236075</td>\n",
       "      <td>-110.878886</td>\n",
       "      <td>2021-04-22T09:38:59-0700</td>\n",
       "      <td>high</td>\n",
       "      <td>2021-04-22 16:38:59+00:00</td>\n",
       "    </tr>\n",
       "    <tr>\n",
       "      <th>5585</th>\n",
       "      <td>7313998757</td>\n",
       "      <td>https://winchester.craigslist.org/ctd/d/manass...</td>\n",
       "      <td>winchester</td>\n",
       "      <td>https://winchester.craigslist.org</td>\n",
       "      <td>304995</td>\n",
       "      <td>2021</td>\n",
       "      <td>porsche</td>\n",
       "      <td>911</td>\n",
       "      <td>gas</td>\n",
       "      <td>22</td>\n",
       "      <td>clean</td>\n",
       "      <td>automatic</td>\n",
       "      <td>https://images.craigslist.org/00r0r_gh2TnrNdSu...</td>\n",
       "      <td>2021 PORSCHE 911 Turbo     Offered by: Insider...</td>\n",
       "      <td>va</td>\n",
       "      <td>38.762669</td>\n",
       "      <td>-77.461754</td>\n",
       "      <td>2021-04-28T15:49:25-0400</td>\n",
       "      <td>high</td>\n",
       "      <td>2021-04-28 19:49:25+00:00</td>\n",
       "    </tr>\n",
       "    <tr>\n",
       "      <th>9663</th>\n",
       "      <td>7305237859</td>\n",
       "      <td>https://delaware.craigslist.org/cto/d/delaware...</td>\n",
       "      <td>delaware</td>\n",
       "      <td>https://delaware.craigslist.org</td>\n",
       "      <td>1000000</td>\n",
       "      <td>2022</td>\n",
       "      <td>other</td>\n",
       "      <td>Any make any model</td>\n",
       "      <td>other</td>\n",
       "      <td>283995</td>\n",
       "      <td>clean</td>\n",
       "      <td>other</td>\n",
       "      <td>https://images.craigslist.org/00S0S_k3A68PVXRC...</td>\n",
       "      <td>We come to you and give you an easy quick tran...</td>\n",
       "      <td>de</td>\n",
       "      <td>39.572500</td>\n",
       "      <td>-75.595700</td>\n",
       "      <td>2021-04-11T13:51:42-0400</td>\n",
       "      <td>high</td>\n",
       "      <td>2021-04-11 17:51:42+00:00</td>\n",
       "    </tr>\n",
       "    <tr>\n",
       "      <th>6239</th>\n",
       "      <td>7302112231</td>\n",
       "      <td>https://akroncanton.craigslist.org/ctd/d/canto...</td>\n",
       "      <td>akron / canton</td>\n",
       "      <td>https://akroncanton.craigslist.org</td>\n",
       "      <td>12345678</td>\n",
       "      <td>2019</td>\n",
       "      <td>chevrolet</td>\n",
       "      <td>other</td>\n",
       "      <td>gas</td>\n",
       "      <td>100000</td>\n",
       "      <td>clean</td>\n",
       "      <td>automatic</td>\n",
       "      <td>https://images.craigslist.org/00F0F_g6k0zWbump...</td>\n",
       "      <td>WE HAVE MOVED TO 2517 FULTON DRIVE NW CANTON, ...</td>\n",
       "      <td>oh</td>\n",
       "      <td>40.846500</td>\n",
       "      <td>-81.440800</td>\n",
       "      <td>2021-04-05T12:26:23-0400</td>\n",
       "      <td>high</td>\n",
       "      <td>2021-04-05 16:26:23+00:00</td>\n",
       "    </tr>\n",
       "  </tbody>\n",
       "</table>\n",
       "</div>"
      ],
      "text/plain": [
       "              id                                                url  \\\n",
       "4073  7311841843  https://albuquerque.craigslist.org/ctd/d/albuq...   \n",
       "9072  7308732637  https://evansville.craigslist.org/ctd/d/evansv...   \n",
       "1674  7303398175  https://pullman.craigslist.org/cto/d/pullman-6...   \n",
       "2963  7308463617  https://jacksonville.craigslist.org/cto/d/pont...   \n",
       "5076  7314445453  https://boston.craigslist.org/gbs/ctd/d/methue...   \n",
       "6471  7312384300  https://orlando.craigslist.org/ctd/d/orlando-2...   \n",
       "8904  7314817013  https://sandiego.craigslist.org/csd/ctd/d/dall...   \n",
       "4183  7316319465  https://portland.craigslist.org/clc/ctd/d/glad...   \n",
       "8720  7313664504  https://austin.craigslist.org/cto/d/austin-sup...   \n",
       "9042  7306718413  https://desmoines.craigslist.org/ctd/d/portlan...   \n",
       "6035  7315323093  https://daytona.craigslist.org/ctd/d/orlando-2...   \n",
       "290   7310897583  https://tucson.craigslist.org/ctd/d/tucson-201...   \n",
       "5585  7313998757  https://winchester.craigslist.org/ctd/d/manass...   \n",
       "9663  7305237859  https://delaware.craigslist.org/cto/d/delaware...   \n",
       "6239  7302112231  https://akroncanton.craigslist.org/ctd/d/canto...   \n",
       "\n",
       "                region                           region_url     price  year  \\\n",
       "4073       albuquerque   https://albuquerque.craigslist.org    120000  2021   \n",
       "9072        evansville    https://evansville.craigslist.org    123456  2006   \n",
       "1674  pullman / moscow       https://pullman.craigslist.org    123456  1995   \n",
       "2963      jacksonville  https://jacksonville.craigslist.org    129000  2018   \n",
       "5076            boston        https://boston.craigslist.org    129995  2007   \n",
       "6471           orlando       https://orlando.craigslist.org    129999  2018   \n",
       "8904         san diego      https://sandiego.craigslist.org    139950  2017   \n",
       "4183          portland      https://portland.craigslist.org    149990  2015   \n",
       "8720            austin        https://austin.craigslist.org    150000  2006   \n",
       "9042        des moines     https://desmoines.craigslist.org    163540  2020   \n",
       "6035     daytona beach       https://daytona.craigslist.org    197999  2015   \n",
       "290             tucson        https://tucson.craigslist.org    239995  2017   \n",
       "5585        winchester    https://winchester.craigslist.org    304995  2021   \n",
       "9663          delaware      https://delaware.craigslist.org   1000000  2022   \n",
       "6239    akron / canton   https://akroncanton.craigslist.org  12345678  2019   \n",
       "\n",
       "       manufacturer                      model    fuel  odometer title_status  \\\n",
       "4073      chevrolet            corvette c8 z51     gas        10        clean   \n",
       "9072           jeep                   wrangler     gas     12345        clean   \n",
       "1674          other              cadvwrambuick     gas    283995      missing   \n",
       "2963  mercedes-benz              benz amg gt c     gas      4000        clean   \n",
       "5076        ferrari                f430 spider     gas     12351        clean   \n",
       "6471  mercedes-benz               maybach s560     gas      6000        clean   \n",
       "8904          other  Mclaren 570GT W/ Upgrades     gas     13000        clean   \n",
       "4183  mercedes-benz         sprinter 3500 airs  diesel     49291        clean   \n",
       "8720          other              Peterbilt 378  diesel      1234        clean   \n",
       "9042  mercedes-benz                      other   other      6318        clean   \n",
       "6035          other        Lamborghini Huracan     gas     33875        clean   \n",
       "290         ferrari                    488 gtb     gas      6012        clean   \n",
       "5585        porsche                        911     gas        22        clean   \n",
       "9663          other         Any make any model   other    283995        clean   \n",
       "6239      chevrolet                      other     gas    100000        clean   \n",
       "\n",
       "     transmission                                          image_url  \\\n",
       "4073    automatic  https://images.craigslist.org/00z0z_99zXyVvNmm...   \n",
       "9072        other  https://images.craigslist.org/00I0I_2IkqjY69Zq...   \n",
       "1674        other  https://images.craigslist.org/00i0i_5iBwIawLgG...   \n",
       "2963    automatic  https://images.craigslist.org/00C0C_bN8j4IcEqW...   \n",
       "5076       manual  https://images.craigslist.org/00q0q_3DqREXHC0j...   \n",
       "6471    automatic  https://images.craigslist.org/00u0u_fKyDNpMeQR...   \n",
       "8904    automatic  https://images.craigslist.org/00N0N_2egaCVi4pq...   \n",
       "4183    automatic  https://images.craigslist.org/00B0B_79v5I132cL...   \n",
       "8720       manual  https://images.craigslist.org/00v0v_ejAvqrK3iP...   \n",
       "9042    automatic  https://images.craigslist.org/00y0y_i26NvL7pZC...   \n",
       "6035        other  https://images.craigslist.org/01717_55Ai9omMq5...   \n",
       "290     automatic  https://images.craigslist.org/00t0t_dN5Wr8nfOx...   \n",
       "5585    automatic  https://images.craigslist.org/00r0r_gh2TnrNdSu...   \n",
       "9663        other  https://images.craigslist.org/00S0S_k3A68PVXRC...   \n",
       "6239    automatic  https://images.craigslist.org/00F0F_g6k0zWbump...   \n",
       "\n",
       "                                            description state        lat  \\\n",
       "4073  New arrival  Z51  Call or text annamarie for d...    nm  35.081800   \n",
       "9072  Very Nice TJ jeeps and a few LJ jeep wranglers...    in  38.025845   \n",
       "1674  I have several cars to get rid of:  A '65 Ramb...    id  46.735200   \n",
       "2963  Beautiful car in perfect condition. Very rare ...    fl  30.122300   \n",
       "5076  2007 Ferrari F430 Spider 2dr Convertible     O...    ma  42.756205   \n",
       "6471  Serious/ready buyers, please call or text @ (4...    fl  28.463700   \n",
       "8904  SPECIALTYEXOTICS.COMCALL/TXT 469-215-1902FREE ...    ca  32.790400   \n",
       "4183  2015 Mercedes-Benz Sprinter 3500 Airstream Int...    or  45.382346   \n",
       "8720  Selling a Wonderful Super Dump! 2006 Peterbilt...    tx  30.364900   \n",
       "9042  2020 *** Mercedes-Benz G-Class G63 AMG***     ...    ia  45.494265   \n",
       "6035  CREDIT AMNESTY!  SE HABLA ESPANOL !!OPEN SUNDA...    fl  28.466088   \n",
       "290   2017 Ferrari 488 GTB Coupe2017 Ferrari 488 GTB...    az  32.236075   \n",
       "5585  2021 PORSCHE 911 Turbo     Offered by: Insider...    va  38.762669   \n",
       "9663  We come to you and give you an easy quick tran...    de  39.572500   \n",
       "6239  WE HAVE MOVED TO 2517 FULTON DRIVE NW CANTON, ...    oh  40.846500   \n",
       "\n",
       "            long              posting_date price_category  \\\n",
       "4073 -106.648200  2021-04-24T08:38:45-0600           high   \n",
       "9072  -87.596457  2021-04-18T09:55:42-0500           high   \n",
       "1674 -117.172900  2021-04-07T15:57:23-0700           high   \n",
       "2963  -81.362700  2021-04-17T16:48:42-0400           high   \n",
       "5076  -71.210258  2021-04-29T14:45:08-0400           high   \n",
       "6471  -81.394800  2021-04-25T12:58:01-0400           high   \n",
       "8904  -96.804400  2021-04-30T08:20:20-0700           high   \n",
       "4183 -122.605132  2021-05-03T11:04:09-0700           high   \n",
       "8720  -97.682700  2021-04-27T21:01:28-0500           high   \n",
       "9042 -122.579192  2021-04-14T11:26:24-0500           high   \n",
       "6035  -81.396429  2021-05-01T11:48:44-0400           high   \n",
       "290  -110.878886  2021-04-22T09:38:59-0700           high   \n",
       "5585  -77.461754  2021-04-28T15:49:25-0400           high   \n",
       "9663  -75.595700  2021-04-11T13:51:42-0400           high   \n",
       "6239  -81.440800  2021-04-05T12:26:23-0400           high   \n",
       "\n",
       "                           date  \n",
       "4073  2021-04-24 14:38:45+00:00  \n",
       "9072  2021-04-18 14:55:42+00:00  \n",
       "1674  2021-04-07 22:57:23+00:00  \n",
       "2963  2021-04-17 20:48:42+00:00  \n",
       "5076  2021-04-29 18:45:08+00:00  \n",
       "6471  2021-04-25 16:58:01+00:00  \n",
       "8904  2021-04-30 15:20:20+00:00  \n",
       "4183  2021-05-03 18:04:09+00:00  \n",
       "8720  2021-04-28 02:01:28+00:00  \n",
       "9042  2021-04-14 16:26:24+00:00  \n",
       "6035  2021-05-01 15:48:44+00:00  \n",
       "290   2021-04-22 16:38:59+00:00  \n",
       "5585  2021-04-28 19:49:25+00:00  \n",
       "9663  2021-04-11 17:51:42+00:00  \n",
       "6239  2021-04-05 16:26:23+00:00  "
      ]
     },
     "execution_count": 57,
     "metadata": {},
     "output_type": "execute_result"
    }
   ],
   "source": [
    "#%%time\n",
    "#df_sorted_outliers.iloc[-15:]\n",
    "#df_sorted_outliers.tail(15)\n",
    "df.loc[df_sorted_outliers.tail(15).index]\n"
   ]
  },
  {
   "cell_type": "markdown",
   "id": "987cb47d",
   "metadata": {
    "id": "987cb47d"
   },
   "source": [
    "9. Среди автомобилей с аномальной стоимостью действительно присуствуют автомобили, высокую стоимость которых можно объяснить, в первучю очередь, производителем и низким пробегом. Но будем опираться на стоимость основной массы автомобилей, поэтому удалите все аномальные значения и сохраните датафрейм без аномалий в переменную `df_new`, выведете первые 5 значений.\n",
    "\n",
    "*Подсказка*: обратите внимание на оператор \"~\" (тильда) при фильтрации исходного датафрейма. Это операция not, которая часто применяется для инвертирования логических значений. Советуем заглянуть в [документацию](https://pandas.pydata.org/pandas-docs/stable/user_guide/indexing.html), чтобы получить представление о его работе на примерах использования."
   ]
  },
  {
   "cell_type": "code",
   "execution_count": 58,
   "id": "f7224741",
   "metadata": {
    "id": "f7224741"
   },
   "outputs": [
    {
     "data": {
      "text/plain": [
       "149     7800\n",
       "5882    7800\n",
       "6237    7800\n",
       "8901    7800\n",
       "4334    7800\n",
       "Name: price, dtype: int64"
      ]
     },
     "execution_count": 58,
     "metadata": {},
     "output_type": "execute_result"
    }
   ],
   "source": [
    "# Ваш код здесь\n",
    "\n",
    "df_new = df.drop(labels = list_of_id_outliers,axis = 0)\n",
    "df_new.price.sort_values().head(5)\n"
   ]
  },
  {
   "cell_type": "markdown",
   "id": "29bad2c6",
   "metadata": {
    "id": "29bad2c6"
   },
   "source": [
    "### Задача 2. Исследование зависимости стоимости автомобиля от года производства\n",
    "\n",
    "1. Сформируйте и отобразите новый датафрейм, в котором будет содержаться статистика о годе производства автомобиля и среднем значении стоимости автомобиля за этот год (воспользуейтесь группировкой по годам). Не забудьте переименовать колонки согласно их содержанию.\n"
   ]
  },
  {
   "cell_type": "code",
   "execution_count": 59,
   "id": "2995ed0f",
   "metadata": {
    "ExecuteTime": {
     "end_time": "2022-02-23T20:44:30.967494Z",
     "start_time": "2022-02-23T20:44:30.964939Z"
    },
    "id": "2995ed0f"
   },
   "outputs": [
    {
     "data": {
      "text/html": [
       "<div>\n",
       "<style scoped>\n",
       "    .dataframe tbody tr th:only-of-type {\n",
       "        vertical-align: middle;\n",
       "    }\n",
       "\n",
       "    .dataframe tbody tr th {\n",
       "        vertical-align: top;\n",
       "    }\n",
       "\n",
       "    .dataframe thead th {\n",
       "        text-align: right;\n",
       "    }\n",
       "</style>\n",
       "<table border=\"1\" class=\"dataframe\">\n",
       "  <thead>\n",
       "    <tr style=\"text-align: right;\">\n",
       "      <th></th>\n",
       "      <th>year</th>\n",
       "      <th>price_mean</th>\n",
       "    </tr>\n",
       "  </thead>\n",
       "  <tbody>\n",
       "    <tr>\n",
       "      <th>0</th>\n",
       "      <td>1995</td>\n",
       "      <td>14847.100478</td>\n",
       "    </tr>\n",
       "    <tr>\n",
       "      <th>1</th>\n",
       "      <td>1996</td>\n",
       "      <td>13079.000000</td>\n",
       "    </tr>\n",
       "    <tr>\n",
       "      <th>2</th>\n",
       "      <td>1997</td>\n",
       "      <td>13739.166667</td>\n",
       "    </tr>\n",
       "    <tr>\n",
       "      <th>3</th>\n",
       "      <td>1998</td>\n",
       "      <td>12239.000000</td>\n",
       "    </tr>\n",
       "    <tr>\n",
       "      <th>4</th>\n",
       "      <td>1999</td>\n",
       "      <td>13707.950000</td>\n",
       "    </tr>\n",
       "    <tr>\n",
       "      <th>5</th>\n",
       "      <td>2000</td>\n",
       "      <td>13371.333333</td>\n",
       "    </tr>\n",
       "    <tr>\n",
       "      <th>6</th>\n",
       "      <td>2001</td>\n",
       "      <td>14545.236842</td>\n",
       "    </tr>\n",
       "    <tr>\n",
       "      <th>7</th>\n",
       "      <td>2002</td>\n",
       "      <td>12184.968750</td>\n",
       "    </tr>\n",
       "    <tr>\n",
       "      <th>8</th>\n",
       "      <td>2003</td>\n",
       "      <td>13235.568627</td>\n",
       "    </tr>\n",
       "    <tr>\n",
       "      <th>9</th>\n",
       "      <td>2004</td>\n",
       "      <td>12080.919355</td>\n",
       "    </tr>\n",
       "  </tbody>\n",
       "</table>\n",
       "</div>"
      ],
      "text/plain": [
       "   year    price_mean\n",
       "0  1995  14847.100478\n",
       "1  1996  13079.000000\n",
       "2  1997  13739.166667\n",
       "3  1998  12239.000000\n",
       "4  1999  13707.950000\n",
       "5  2000  13371.333333\n",
       "6  2001  14545.236842\n",
       "7  2002  12184.968750\n",
       "8  2003  13235.568627\n",
       "9  2004  12080.919355"
      ]
     },
     "execution_count": 59,
     "metadata": {},
     "output_type": "execute_result"
    }
   ],
   "source": [
    "# Ваш код здесь\n",
    "df_mean_price_of_year = df_new.groupby(\"year\").agg({\"price\":\"mean\"})\n",
    "df_mean_price_of_year = df_mean_price_of_year.rename(columns={\"price\":\"price_mean\"}).reset_index()\n",
    "df_mean_price_of_year.head(10)"
   ]
  },
  {
   "cell_type": "markdown",
   "id": "9860fd70",
   "metadata": {
    "id": "9860fd70"
   },
   "source": [
    "2. Постройте диаграмму рассеяния для визуализации зависимости стоимости от года выпуска автомобиля. Не забудьте подписать название графика и оси."
   ]
  },
  {
   "cell_type": "code",
   "execution_count": 60,
   "id": "12a726e3",
   "metadata": {
    "ExecuteTime": {
     "end_time": "2022-02-23T20:47:51.427561Z",
     "start_time": "2022-02-23T20:47:51.424827Z"
    },
    "id": "12a726e3"
   },
   "outputs": [
    {
     "data": {
      "image/png": "[encoded data removed]",
      "text/plain": [
       "<Figure size 432x288 with 1 Axes>"
      ]
     },
     "metadata": {
      "needs_background": "light"
     },
     "output_type": "display_data"
    }
   ],
   "source": [
    "# Ваш код здесь\n",
    "plt.figure()\n",
    "plt.scatter(df_mean_price_of_year[\"year\"],df_mean_price_of_year[\"price_mean\"])\n",
    "plt.title('Зависимость стоимости от года выпуска автомобиля')\n",
    "plt.xlabel(\"Год\")\n",
    "plt.ylabel(\"Цена\")\n",
    "plt.show();\n"
   ]
  },
  {
   "cell_type": "markdown",
   "id": "02944938",
   "metadata": {
    "id": "02944938"
   },
   "source": [
    "3. Из графика можно сделать вывод о возрастающем тренде: чем новее автомобиль, тем выше его цена. Исключение составляют наиболее старые и самые новые автомобили. Проверим, достаточно ли данных в выбивающихся из тренда значениях по годам. Для этого выведете количество автомобилей, произведенных в каждый год, воспользуейтесь группировкой по годам."
   ]
  },
  {
   "cell_type": "code",
   "execution_count": 61,
   "id": "1daef5be",
   "metadata": {
    "ExecuteTime": {
     "end_time": "2022-02-23T20:53:15.093805Z",
     "start_time": "2022-02-23T20:53:15.090950Z"
    },
    "id": "1daef5be"
   },
   "outputs": [
    {
     "data": {
      "text/html": [
       "<div>\n",
       "<style scoped>\n",
       "    .dataframe tbody tr th:only-of-type {\n",
       "        vertical-align: middle;\n",
       "    }\n",
       "\n",
       "    .dataframe tbody tr th {\n",
       "        vertical-align: top;\n",
       "    }\n",
       "\n",
       "    .dataframe thead th {\n",
       "        text-align: right;\n",
       "    }\n",
       "</style>\n",
       "<table border=\"1\" class=\"dataframe\">\n",
       "  <thead>\n",
       "    <tr style=\"text-align: right;\">\n",
       "      <th></th>\n",
       "      <th>model</th>\n",
       "    </tr>\n",
       "    <tr>\n",
       "      <th>year</th>\n",
       "      <th></th>\n",
       "    </tr>\n",
       "  </thead>\n",
       "  <tbody>\n",
       "    <tr>\n",
       "      <th>2022</th>\n",
       "      <td>1</td>\n",
       "    </tr>\n",
       "    <tr>\n",
       "      <th>2021</th>\n",
       "      <td>12</td>\n",
       "    </tr>\n",
       "    <tr>\n",
       "      <th>2020</th>\n",
       "      <td>104</td>\n",
       "    </tr>\n",
       "    <tr>\n",
       "      <th>2019</th>\n",
       "      <td>189</td>\n",
       "    </tr>\n",
       "    <tr>\n",
       "      <th>2018</th>\n",
       "      <td>379</td>\n",
       "    </tr>\n",
       "    <tr>\n",
       "      <th>2017</th>\n",
       "      <td>432</td>\n",
       "    </tr>\n",
       "    <tr>\n",
       "      <th>2016</th>\n",
       "      <td>477</td>\n",
       "    </tr>\n",
       "    <tr>\n",
       "      <th>2015</th>\n",
       "      <td>415</td>\n",
       "    </tr>\n",
       "    <tr>\n",
       "      <th>2014</th>\n",
       "      <td>445</td>\n",
       "    </tr>\n",
       "    <tr>\n",
       "      <th>2013</th>\n",
       "      <td>496</td>\n",
       "    </tr>\n",
       "    <tr>\n",
       "      <th>2012</th>\n",
       "      <td>393</td>\n",
       "    </tr>\n",
       "    <tr>\n",
       "      <th>2011</th>\n",
       "      <td>292</td>\n",
       "    </tr>\n",
       "    <tr>\n",
       "      <th>2010</th>\n",
       "      <td>201</td>\n",
       "    </tr>\n",
       "    <tr>\n",
       "      <th>2009</th>\n",
       "      <td>124</td>\n",
       "    </tr>\n",
       "    <tr>\n",
       "      <th>2008</th>\n",
       "      <td>224</td>\n",
       "    </tr>\n",
       "    <tr>\n",
       "      <th>2007</th>\n",
       "      <td>152</td>\n",
       "    </tr>\n",
       "    <tr>\n",
       "      <th>2006</th>\n",
       "      <td>94</td>\n",
       "    </tr>\n",
       "    <tr>\n",
       "      <th>2005</th>\n",
       "      <td>74</td>\n",
       "    </tr>\n",
       "    <tr>\n",
       "      <th>2004</th>\n",
       "      <td>62</td>\n",
       "    </tr>\n",
       "    <tr>\n",
       "      <th>2003</th>\n",
       "      <td>51</td>\n",
       "    </tr>\n",
       "    <tr>\n",
       "      <th>2002</th>\n",
       "      <td>32</td>\n",
       "    </tr>\n",
       "    <tr>\n",
       "      <th>2001</th>\n",
       "      <td>38</td>\n",
       "    </tr>\n",
       "    <tr>\n",
       "      <th>2000</th>\n",
       "      <td>27</td>\n",
       "    </tr>\n",
       "    <tr>\n",
       "      <th>1999</th>\n",
       "      <td>20</td>\n",
       "    </tr>\n",
       "    <tr>\n",
       "      <th>1998</th>\n",
       "      <td>18</td>\n",
       "    </tr>\n",
       "    <tr>\n",
       "      <th>1997</th>\n",
       "      <td>12</td>\n",
       "    </tr>\n",
       "    <tr>\n",
       "      <th>1996</th>\n",
       "      <td>10</td>\n",
       "    </tr>\n",
       "    <tr>\n",
       "      <th>1995</th>\n",
       "      <td>209</td>\n",
       "    </tr>\n",
       "  </tbody>\n",
       "</table>\n",
       "</div>"
      ],
      "text/plain": [
       "      model\n",
       "year       \n",
       "2022      1\n",
       "2021     12\n",
       "2020    104\n",
       "2019    189\n",
       "2018    379\n",
       "2017    432\n",
       "2016    477\n",
       "2015    415\n",
       "2014    445\n",
       "2013    496\n",
       "2012    393\n",
       "2011    292\n",
       "2010    201\n",
       "2009    124\n",
       "2008    224\n",
       "2007    152\n",
       "2006     94\n",
       "2005     74\n",
       "2004     62\n",
       "2003     51\n",
       "2002     32\n",
       "2001     38\n",
       "2000     27\n",
       "1999     20\n",
       "1998     18\n",
       "1997     12\n",
       "1996     10\n",
       "1995    209"
      ]
     },
     "execution_count": 61,
     "metadata": {},
     "output_type": "execute_result"
    }
   ],
   "source": [
    "# Ваш код здесь\n",
    "#df_new.year.value_counts().sort_values(revert=False)\n",
    "df_new.groupby(\"year\").agg({\"model\":\"count\"}).sort_values(\"year\",ascending=False)"
   ]
  },
  {
   "cell_type": "markdown",
   "id": "fccf26b9",
   "metadata": {
    "id": "fccf26b9"
   },
   "source": [
    "4. За последние два года мало накопленной информации — исключим их из исследования. С помощью фильтрации оставьте в датафрейме автомобили, произведенные не позднее 2021 года, выведете первые пять значений датафрейма."
   ]
  },
  {
   "cell_type": "code",
   "execution_count": 62,
   "id": "8f2017e5",
   "metadata": {
    "id": "8f2017e5"
   },
   "outputs": [
    {
     "data": {
      "text/html": [
       "<div>\n",
       "<style scoped>\n",
       "    .dataframe tbody tr th:only-of-type {\n",
       "        vertical-align: middle;\n",
       "    }\n",
       "\n",
       "    .dataframe tbody tr th {\n",
       "        vertical-align: top;\n",
       "    }\n",
       "\n",
       "    .dataframe thead th {\n",
       "        text-align: right;\n",
       "    }\n",
       "</style>\n",
       "<table border=\"1\" class=\"dataframe\">\n",
       "  <thead>\n",
       "    <tr style=\"text-align: right;\">\n",
       "      <th></th>\n",
       "      <th>id</th>\n",
       "      <th>url</th>\n",
       "      <th>region</th>\n",
       "      <th>region_url</th>\n",
       "      <th>price</th>\n",
       "      <th>year</th>\n",
       "      <th>manufacturer</th>\n",
       "      <th>model</th>\n",
       "      <th>fuel</th>\n",
       "      <th>odometer</th>\n",
       "      <th>title_status</th>\n",
       "      <th>transmission</th>\n",
       "      <th>image_url</th>\n",
       "      <th>description</th>\n",
       "      <th>state</th>\n",
       "      <th>lat</th>\n",
       "      <th>long</th>\n",
       "      <th>posting_date</th>\n",
       "      <th>price_category</th>\n",
       "      <th>date</th>\n",
       "    </tr>\n",
       "  </thead>\n",
       "  <tbody>\n",
       "    <tr>\n",
       "      <th>1</th>\n",
       "      <td>7316380095</td>\n",
       "      <td>https://newjersey.craigslist.org/ctd/d/carlsta...</td>\n",
       "      <td>north jersey</td>\n",
       "      <td>https://newjersey.craigslist.org</td>\n",
       "      <td>16942</td>\n",
       "      <td>2016</td>\n",
       "      <td>ford</td>\n",
       "      <td>explorer 4wd 4dr xlt</td>\n",
       "      <td>other</td>\n",
       "      <td>60023</td>\n",
       "      <td>clean</td>\n",
       "      <td>automatic</td>\n",
       "      <td>https://images.craigslist.org/00x0x_26jl9F0cnL...</td>\n",
       "      <td>***Call Us for more information at: 201-635-14...</td>\n",
       "      <td>nj</td>\n",
       "      <td>40.821805</td>\n",
       "      <td>-74.061962</td>\n",
       "      <td>2021-05-03T15:40:21-0400</td>\n",
       "      <td>medium</td>\n",
       "      <td>2021-05-03 19:40:21+00:00</td>\n",
       "    </tr>\n",
       "    <tr>\n",
       "      <th>3</th>\n",
       "      <td>7308210929</td>\n",
       "      <td>https://fayetteville.craigslist.org/ctd/d/rale...</td>\n",
       "      <td>fayetteville</td>\n",
       "      <td>https://fayetteville.craigslist.org</td>\n",
       "      <td>14500</td>\n",
       "      <td>2013</td>\n",
       "      <td>toyota</td>\n",
       "      <td>rav4</td>\n",
       "      <td>gas</td>\n",
       "      <td>117291</td>\n",
       "      <td>clean</td>\n",
       "      <td>automatic</td>\n",
       "      <td>https://images.craigslist.org/00606_iGe5iXidib...</td>\n",
       "      <td>2013 Toyota RAV4 XLE 4dr SUV     Offered by: R...</td>\n",
       "      <td>nc</td>\n",
       "      <td>35.715954</td>\n",
       "      <td>-78.655304</td>\n",
       "      <td>2021-04-17T10:08:57-0400</td>\n",
       "      <td>medium</td>\n",
       "      <td>2021-04-17 14:08:57+00:00</td>\n",
       "    </tr>\n",
       "    <tr>\n",
       "      <th>4</th>\n",
       "      <td>7316474668</td>\n",
       "      <td>https://newyork.craigslist.org/lgi/cto/d/baldw...</td>\n",
       "      <td>new york city</td>\n",
       "      <td>https://newyork.craigslist.org</td>\n",
       "      <td>21800</td>\n",
       "      <td>2021</td>\n",
       "      <td>nissan</td>\n",
       "      <td>altima</td>\n",
       "      <td>gas</td>\n",
       "      <td>8000</td>\n",
       "      <td>clean</td>\n",
       "      <td>automatic</td>\n",
       "      <td>https://images.craigslist.org/00V0V_3pSOiPZ3Sd...</td>\n",
       "      <td>2021 Nissan Altima Sv with Only 8 K Miles Titl...</td>\n",
       "      <td>ny</td>\n",
       "      <td>40.654800</td>\n",
       "      <td>-73.609700</td>\n",
       "      <td>2021-05-03T18:32:06-0400</td>\n",
       "      <td>medium</td>\n",
       "      <td>2021-05-03 22:32:06+00:00</td>\n",
       "    </tr>\n",
       "    <tr>\n",
       "      <th>5</th>\n",
       "      <td>7303797340</td>\n",
       "      <td>https://knoxville.craigslist.org/ctd/d/knoxvil...</td>\n",
       "      <td>knoxville</td>\n",
       "      <td>https://knoxville.craigslist.org</td>\n",
       "      <td>14590</td>\n",
       "      <td>2012</td>\n",
       "      <td>bmw</td>\n",
       "      <td>1 series 128i coupe 2d</td>\n",
       "      <td>other</td>\n",
       "      <td>80465</td>\n",
       "      <td>clean</td>\n",
       "      <td>other</td>\n",
       "      <td>https://images.craigslist.org/00F0F_5UAXmOzC18...</td>\n",
       "      <td>Carvana is the safer way to buy a car During t...</td>\n",
       "      <td>tn</td>\n",
       "      <td>35.970000</td>\n",
       "      <td>-83.940000</td>\n",
       "      <td>2021-04-08T15:10:56-0400</td>\n",
       "      <td>medium</td>\n",
       "      <td>2021-04-08 19:10:56+00:00</td>\n",
       "    </tr>\n",
       "    <tr>\n",
       "      <th>8</th>\n",
       "      <td>7315031640</td>\n",
       "      <td>https://grandrapids.craigslist.org/ctd/d/wyomi...</td>\n",
       "      <td>grand rapids</td>\n",
       "      <td>https://grandrapids.craigslist.org</td>\n",
       "      <td>14000</td>\n",
       "      <td>2014</td>\n",
       "      <td>dodge</td>\n",
       "      <td>charger</td>\n",
       "      <td>gas</td>\n",
       "      <td>94535</td>\n",
       "      <td>clean</td>\n",
       "      <td>automatic</td>\n",
       "      <td>https://images.craigslist.org/00R0R_duXwztf7DY...</td>\n",
       "      <td>2014 Dodge Charger 4dr Sdn SXT RWD     Offered...</td>\n",
       "      <td>mi</td>\n",
       "      <td>42.914352</td>\n",
       "      <td>-85.730042</td>\n",
       "      <td>2021-04-30T17:20:30-0400</td>\n",
       "      <td>medium</td>\n",
       "      <td>2021-04-30 21:20:30+00:00</td>\n",
       "    </tr>\n",
       "  </tbody>\n",
       "</table>\n",
       "</div>"
      ],
      "text/plain": [
       "           id                                                url  \\\n",
       "1  7316380095  https://newjersey.craigslist.org/ctd/d/carlsta...   \n",
       "3  7308210929  https://fayetteville.craigslist.org/ctd/d/rale...   \n",
       "4  7316474668  https://newyork.craigslist.org/lgi/cto/d/baldw...   \n",
       "5  7303797340  https://knoxville.craigslist.org/ctd/d/knoxvil...   \n",
       "8  7315031640  https://grandrapids.craigslist.org/ctd/d/wyomi...   \n",
       "\n",
       "          region                           region_url  price  year  \\\n",
       "1   north jersey     https://newjersey.craigslist.org  16942  2016   \n",
       "3   fayetteville  https://fayetteville.craigslist.org  14500  2013   \n",
       "4  new york city       https://newyork.craigslist.org  21800  2021   \n",
       "5      knoxville     https://knoxville.craigslist.org  14590  2012   \n",
       "8   grand rapids   https://grandrapids.craigslist.org  14000  2014   \n",
       "\n",
       "  manufacturer                   model   fuel  odometer title_status  \\\n",
       "1         ford    explorer 4wd 4dr xlt  other     60023        clean   \n",
       "3       toyota                    rav4    gas    117291        clean   \n",
       "4       nissan                  altima    gas      8000        clean   \n",
       "5          bmw  1 series 128i coupe 2d  other     80465        clean   \n",
       "8        dodge                 charger    gas     94535        clean   \n",
       "\n",
       "  transmission                                          image_url  \\\n",
       "1    automatic  https://images.craigslist.org/00x0x_26jl9F0cnL...   \n",
       "3    automatic  https://images.craigslist.org/00606_iGe5iXidib...   \n",
       "4    automatic  https://images.craigslist.org/00V0V_3pSOiPZ3Sd...   \n",
       "5        other  https://images.craigslist.org/00F0F_5UAXmOzC18...   \n",
       "8    automatic  https://images.craigslist.org/00R0R_duXwztf7DY...   \n",
       "\n",
       "                                         description state        lat  \\\n",
       "1  ***Call Us for more information at: 201-635-14...    nj  40.821805   \n",
       "3  2013 Toyota RAV4 XLE 4dr SUV     Offered by: R...    nc  35.715954   \n",
       "4  2021 Nissan Altima Sv with Only 8 K Miles Titl...    ny  40.654800   \n",
       "5  Carvana is the safer way to buy a car During t...    tn  35.970000   \n",
       "8  2014 Dodge Charger 4dr Sdn SXT RWD     Offered...    mi  42.914352   \n",
       "\n",
       "        long              posting_date price_category  \\\n",
       "1 -74.061962  2021-05-03T15:40:21-0400         medium   \n",
       "3 -78.655304  2021-04-17T10:08:57-0400         medium   \n",
       "4 -73.609700  2021-05-03T18:32:06-0400         medium   \n",
       "5 -83.940000  2021-04-08T15:10:56-0400         medium   \n",
       "8 -85.730042  2021-04-30T17:20:30-0400         medium   \n",
       "\n",
       "                        date  \n",
       "1  2021-05-03 19:40:21+00:00  \n",
       "3  2021-04-17 14:08:57+00:00  \n",
       "4  2021-05-03 22:32:06+00:00  \n",
       "5  2021-04-08 19:10:56+00:00  \n",
       "8  2021-04-30 21:20:30+00:00  "
      ]
     },
     "execution_count": 62,
     "metadata": {},
     "output_type": "execute_result"
    }
   ],
   "source": [
    "# Ваш код здесь\n",
    "df_new = df_new.loc[df_new[\"year\"]<=2021]\n",
    "df_new.shape\n",
    "df_new.head()"
   ]
  },
  {
   "cell_type": "markdown",
   "id": "95ed8132",
   "metadata": {
    "id": "95ed8132"
   },
   "source": [
    "5. На отфильтрованных данных повторите действия по формированию нового датафрейма, в котором будет содержаться статистика о годе производства автомобиля и среднем значении стоимости автомобиля за этот год. Не забудьте переименовать колонки согласно их содержанию."
   ]
  },
  {
   "cell_type": "code",
   "execution_count": 63,
   "id": "91c7a08f",
   "metadata": {
    "ExecuteTime": {
     "end_time": "2022-02-23T21:17:51.352006Z",
     "start_time": "2022-02-23T21:17:51.348548Z"
    },
    "id": "91c7a08f"
   },
   "outputs": [
    {
     "data": {
      "text/html": [
       "<div>\n",
       "<style scoped>\n",
       "    .dataframe tbody tr th:only-of-type {\n",
       "        vertical-align: middle;\n",
       "    }\n",
       "\n",
       "    .dataframe tbody tr th {\n",
       "        vertical-align: top;\n",
       "    }\n",
       "\n",
       "    .dataframe thead th {\n",
       "        text-align: right;\n",
       "    }\n",
       "</style>\n",
       "<table border=\"1\" class=\"dataframe\">\n",
       "  <thead>\n",
       "    <tr style=\"text-align: right;\">\n",
       "      <th></th>\n",
       "      <th>year</th>\n",
       "      <th>price_mean</th>\n",
       "    </tr>\n",
       "  </thead>\n",
       "  <tbody>\n",
       "    <tr>\n",
       "      <th>0</th>\n",
       "      <td>1995</td>\n",
       "      <td>14847.100478</td>\n",
       "    </tr>\n",
       "    <tr>\n",
       "      <th>1</th>\n",
       "      <td>1996</td>\n",
       "      <td>13079.000000</td>\n",
       "    </tr>\n",
       "    <tr>\n",
       "      <th>2</th>\n",
       "      <td>1997</td>\n",
       "      <td>13739.166667</td>\n",
       "    </tr>\n",
       "    <tr>\n",
       "      <th>3</th>\n",
       "      <td>1998</td>\n",
       "      <td>12239.000000</td>\n",
       "    </tr>\n",
       "    <tr>\n",
       "      <th>4</th>\n",
       "      <td>1999</td>\n",
       "      <td>13707.950000</td>\n",
       "    </tr>\n",
       "    <tr>\n",
       "      <th>5</th>\n",
       "      <td>2000</td>\n",
       "      <td>13371.333333</td>\n",
       "    </tr>\n",
       "    <tr>\n",
       "      <th>6</th>\n",
       "      <td>2001</td>\n",
       "      <td>14545.236842</td>\n",
       "    </tr>\n",
       "    <tr>\n",
       "      <th>7</th>\n",
       "      <td>2002</td>\n",
       "      <td>12184.968750</td>\n",
       "    </tr>\n",
       "    <tr>\n",
       "      <th>8</th>\n",
       "      <td>2003</td>\n",
       "      <td>13235.568627</td>\n",
       "    </tr>\n",
       "    <tr>\n",
       "      <th>9</th>\n",
       "      <td>2004</td>\n",
       "      <td>12080.919355</td>\n",
       "    </tr>\n",
       "    <tr>\n",
       "      <th>10</th>\n",
       "      <td>2005</td>\n",
       "      <td>13465.540541</td>\n",
       "    </tr>\n",
       "    <tr>\n",
       "      <th>11</th>\n",
       "      <td>2006</td>\n",
       "      <td>13935.159574</td>\n",
       "    </tr>\n",
       "    <tr>\n",
       "      <th>12</th>\n",
       "      <td>2007</td>\n",
       "      <td>12220.000000</td>\n",
       "    </tr>\n",
       "    <tr>\n",
       "      <th>13</th>\n",
       "      <td>2008</td>\n",
       "      <td>13090.464286</td>\n",
       "    </tr>\n",
       "    <tr>\n",
       "      <th>14</th>\n",
       "      <td>2009</td>\n",
       "      <td>12809.733871</td>\n",
       "    </tr>\n",
       "    <tr>\n",
       "      <th>15</th>\n",
       "      <td>2010</td>\n",
       "      <td>13771.089552</td>\n",
       "    </tr>\n",
       "    <tr>\n",
       "      <th>16</th>\n",
       "      <td>2011</td>\n",
       "      <td>13740.178082</td>\n",
       "    </tr>\n",
       "    <tr>\n",
       "      <th>17</th>\n",
       "      <td>2012</td>\n",
       "      <td>14634.890585</td>\n",
       "    </tr>\n",
       "    <tr>\n",
       "      <th>18</th>\n",
       "      <td>2013</td>\n",
       "      <td>15644.362903</td>\n",
       "    </tr>\n",
       "    <tr>\n",
       "      <th>19</th>\n",
       "      <td>2014</td>\n",
       "      <td>16092.923596</td>\n",
       "    </tr>\n",
       "    <tr>\n",
       "      <th>20</th>\n",
       "      <td>2015</td>\n",
       "      <td>17253.043373</td>\n",
       "    </tr>\n",
       "    <tr>\n",
       "      <th>21</th>\n",
       "      <td>2016</td>\n",
       "      <td>17061.735849</td>\n",
       "    </tr>\n",
       "    <tr>\n",
       "      <th>22</th>\n",
       "      <td>2017</td>\n",
       "      <td>19960.273148</td>\n",
       "    </tr>\n",
       "    <tr>\n",
       "      <th>23</th>\n",
       "      <td>2018</td>\n",
       "      <td>21178.976253</td>\n",
       "    </tr>\n",
       "    <tr>\n",
       "      <th>24</th>\n",
       "      <td>2019</td>\n",
       "      <td>21814.216931</td>\n",
       "    </tr>\n",
       "    <tr>\n",
       "      <th>25</th>\n",
       "      <td>2020</td>\n",
       "      <td>21966.769231</td>\n",
       "    </tr>\n",
       "    <tr>\n",
       "      <th>26</th>\n",
       "      <td>2021</td>\n",
       "      <td>19688.000000</td>\n",
       "    </tr>\n",
       "  </tbody>\n",
       "</table>\n",
       "</div>"
      ],
      "text/plain": [
       "    year    price_mean\n",
       "0   1995  14847.100478\n",
       "1   1996  13079.000000\n",
       "2   1997  13739.166667\n",
       "3   1998  12239.000000\n",
       "4   1999  13707.950000\n",
       "5   2000  13371.333333\n",
       "6   2001  14545.236842\n",
       "7   2002  12184.968750\n",
       "8   2003  13235.568627\n",
       "9   2004  12080.919355\n",
       "10  2005  13465.540541\n",
       "11  2006  13935.159574\n",
       "12  2007  12220.000000\n",
       "13  2008  13090.464286\n",
       "14  2009  12809.733871\n",
       "15  2010  13771.089552\n",
       "16  2011  13740.178082\n",
       "17  2012  14634.890585\n",
       "18  2013  15644.362903\n",
       "19  2014  16092.923596\n",
       "20  2015  17253.043373\n",
       "21  2016  17061.735849\n",
       "22  2017  19960.273148\n",
       "23  2018  21178.976253\n",
       "24  2019  21814.216931\n",
       "25  2020  21966.769231\n",
       "26  2021  19688.000000"
      ]
     },
     "execution_count": 63,
     "metadata": {},
     "output_type": "execute_result"
    }
   ],
   "source": [
    "# Ваш код здесь\n",
    "df_mean_price_of_year_v2 = df_new.groupby(\"year\").agg({\"price\":\"mean\"})\n",
    "df_mean_price_of_year_v2 = df_mean_price_of_year_v2.rename(columns={\"price\":\"price_mean\"}).reset_index()\n",
    "df_mean_price_of_year_v2"
   ]
  },
  {
   "cell_type": "markdown",
   "id": "fc11cee1",
   "metadata": {
    "id": "fc11cee1"
   },
   "source": [
    "6. Постройте линейный график ([plot](https://matplotlib.org/stable/api/_as_gen/matplotlib.pyplot.plot.html)) для визуализации зависимости стоимости от года выпуска автомобиля, настройте цвет линии —  `blue`, символ маркировки точек (`marker`) — ромб/алмаз — `D`, цвет точек (`markerfacecolor`) — `orange`. Используйте среднюю стоимость автомобиля, рассчитаную в предыдущем задании.\n",
    "Не забудьте подписать название графика и оси."
   ]
  },
  {
   "cell_type": "code",
   "execution_count": 64,
   "id": "b7d7438d",
   "metadata": {
    "ExecuteTime": {
     "end_time": "2022-02-23T21:28:41.751730Z",
     "start_time": "2022-02-23T21:28:41.748895Z"
    },
    "id": "b7d7438d"
   },
   "outputs": [
    {
     "data": {
      "image/png": "[encoded data removed]",
      "text/plain": [
       "<Figure size 432x288 with 1 Axes>"
      ]
     },
     "metadata": {
      "needs_background": "light"
     },
     "output_type": "display_data"
    }
   ],
   "source": [
    "# Ваш код здесь\n",
    "#plot(x, y, color='green', marker='o', linestyle='dashed',linewidth=2, markersize=12)\n",
    "plt.figure()\n",
    "plt.plot(df_mean_price_of_year_v2[\"year\"],df_mean_price_of_year_v2[\"price_mean\"],color=\"blue\",marker=\"D\",\n",
    "        markerfacecolor=\"orange\")\n",
    "plt.xlabel(\"Year\")\n",
    "plt.ylabel(\"Price\")\n",
    "plt.title(\"Линейный график цены от года\");\n",
    "\n"
   ]
  },
  {
   "cell_type": "markdown",
   "id": "8eff666e",
   "metadata": {
    "id": "8eff666e"
   },
   "source": [
    "7. Посчитайте коэффициент корреляции Пирсона для стоимости автомобиля и года его производства. Ответьте на вопросы:\n",
    "\n",
    "\n",
    "    1. Можно ли сделать вывод о существовании линейной связи между стоимостью автомобиля и годом его производства? Почему?\n",
    "    Ваш ответ:да, линейная зависимость, потому что за увеличением года производства в целом следует увеличение цены. такая связь называется прямой.\n",
    "\n",
    "    2. Можно ли сделать вывод о сильной корреляции между стоимостью автомобиля и годом его производства? Почему?\n",
    "    Ваш ответ:нет, корреляция слабая, считается средняя корреляция около 0.7 , выше 0.7 -сильная, мы видим 0.35.\n",
    "\n",
    "    3. Существующая связь является прямой или обратной? Почему?\n",
    "    Ваш ответ: прямая т.к. коэфициент кор. > 0, обратная - это когда коэф-т корреляции меньше 0."
   ]
  },
  {
   "cell_type": "code",
   "execution_count": 65,
   "id": "8ad1d686",
   "metadata": {
    "ExecuteTime": {
     "end_time": "2022-02-23T21:43:34.537020Z",
     "start_time": "2022-02-23T21:43:34.534467Z"
    },
    "id": "8ad1d686"
   },
   "outputs": [
    {
     "data": {
      "text/plain": [
       "0.35376399999582425"
      ]
     },
     "execution_count": 65,
     "metadata": {},
     "output_type": "execute_result"
    }
   ],
   "source": [
    "# Ваш код здесь \n",
    "df_new[\"price\"].corr(df_new[\"year\"])"
   ]
  },
  {
   "cell_type": "markdown",
   "id": "99315506",
   "metadata": {
    "id": "99315506"
   },
   "source": [
    "8. Для обновленных данных постройте гистограмму распределения стоимости автомобиля, настройте размер фигуры — 8x5, параметры количества интервалов — 20, цвет — indigo. Не забудьте подписать название графика и оси."
   ]
  },
  {
   "cell_type": "code",
   "execution_count": 75,
   "id": "04a4abe5",
   "metadata": {
    "ExecuteTime": {
     "end_time": "2022-02-23T21:48:01.930505Z",
     "start_time": "2022-02-23T21:48:01.928047Z"
    },
    "id": "04a4abe5"
   },
   "outputs": [
    {
     "data": {
      "image/png": "[encoded data removed]",
      "text/plain": [
       "<Figure size 576x360 with 1 Axes>"
      ]
     },
     "metadata": {
      "needs_background": "light"
     },
     "output_type": "display_data"
    }
   ],
   "source": [
    "# Ваш код здесь\n",
    "plt.figure(figsize=(8,5))\n",
    "plt.hist(df_new[\"price\"],bins=20,color=\"indigo\")\n",
    "plt.xlabel(\"Стоимость\")\n",
    "plt.ylabel(\"Количество автомобилей\")\n",
    "plt.title(\"Гистограмма распределения стоимости автомобиля\");"
   ]
  },
  {
   "cell_type": "markdown",
   "id": "31af4dae",
   "metadata": {
    "id": "31af4dae"
   },
   "source": [
    "9. Сохраните для дальнейшего использования датафрейм `df_new` в файл `data/vehicles_dataset_upd2.csv`, индексы не сохраняйте."
   ]
  },
  {
   "cell_type": "code",
   "execution_count": 67,
   "id": "89d7719e",
   "metadata": {
    "ExecuteTime": {
     "end_time": "2022-02-25T11:32:57.134221Z",
     "start_time": "2022-02-25T11:32:57.036766Z"
    },
    "id": "89d7719e"
   },
   "outputs": [],
   "source": [
    "# Ваш код здесь\n",
    "df_new.to_csv(\"data/vehicles_dataset_upd2.csv\",index=False)"
   ]
  },
  {
   "cell_type": "markdown",
   "id": "dfcd3821",
   "metadata": {
    "id": "dfcd3821"
   },
   "source": [
    "### Задача 3. Исследование зависимости ценовой категории автомобилиля от стоимости и года производства\n",
    "\n",
    "1. На одном полотне постройте графики распределения стоимости автомобиля для каждой из ценовой категории автомобиля. Настройти общий размер фигуры — 12x8, параметры прозрачности — 0.7, цвета в зависимости от ценовой категории — зеленый, оранжевый и красный для низкой, средней и высокой ценовой категории соответственно. Не забудьте подписать название графика и оси, а также вывести легенду для ценовой категории. \n",
    "\n",
    "Подумайте, почему полученный график так выглядит?\n"
   ]
  },
  {
   "cell_type": "code",
   "execution_count": 68,
   "id": "7d2be525",
   "metadata": {
    "id": "7d2be525"
   },
   "outputs": [
    {
     "data": {
      "text/plain": [
       "array(['medium', 'high', 'low'], dtype=object)"
      ]
     },
     "execution_count": 68,
     "metadata": {},
     "output_type": "execute_result"
    }
   ],
   "source": [
    "# Ваш код здесь\n",
    "df_upd2 = pd.read_csv(\"data/vehicles_dataset_upd2.csv\")\n",
    "uniq_categories = df_upd2.price_category.unique()\n",
    "uniq_categories"
   ]
  },
  {
   "cell_type": "code",
   "execution_count": 88,
   "id": "23f0922e",
   "metadata": {},
   "outputs": [
    {
     "data": {
      "image/png": "[encoded data removed]",
      "text/plain": [
       "<Figure size 864x576 with 1 Axes>"
      ]
     },
     "metadata": {
      "needs_background": "light"
     },
     "output_type": "display_data"
    }
   ],
   "source": [
    "#%%time\n",
    "#график так выглядит , потому что, цикл сгруппировал значения цены по категориям, и мы видим цену последовально... \n",
    "\n",
    "colors = {'high':\"red\", 'medium':\"orange\",  'low':\"green\"}\n",
    "plt.figure(figsize=(12,8))\n",
    "\n",
    "for price_category in colors:\n",
    "    plt.hist(df_upd2.price.loc[df_upd2[\"price_category\"]==price_category].values,\\\n",
    "            color=colors[price_category],alpha=0.7)\n",
    "\n",
    "plt.xlabel(\"Цена\")\n",
    "plt.ylabel(\"Количество автомобилей\")\n",
    "plt.title(\"Pаспределениe стоимости автомобиля для каждой из ценовой категории автомобиля\")\n",
    "plt.legend(colors,title=\"Ценовая категория\")\n",
    "plt.show();\n",
    "\n",
    "#так работает быстрее но ...(((( \n",
    "#colors = {'low': 'green', 'medium': 'orange', 'high': 'red'}\n",
    "# fig, ax = plt.subplots(figsize=(12, 8))\n",
    "\n",
    "# for price_category in colors:\n",
    "#     color = colors[price_category]\n",
    "#     data = df_upd2[df_upd2['price_category'] == price_category]\n",
    "\n",
    "#     ax.hist(data ['price'], color=color, alpha  =  0.7)\n",
    "\n",
    "# ax.legend(colors, loc='upper right', title=\"Ценовая категория\")\n",
    "\n",
    "# plt.ylabel('Количество')\n",
    "# plt.xlabel('Цена')\n",
    "# plt.title('Распределение стоимости автомобиля по ценовой категории')\n",
    "\n"
   ]
  },
  {
   "cell_type": "markdown",
   "id": "9726ae3b",
   "metadata": {
    "id": "9726ae3b"
   },
   "source": [
    "2. На одном полотне постройте диаграмму рассеяния для стоимости автомобиля и его года выпуска. Раскрасьте каждую точку (автомобиль) согласно ценовой категории автомобиля. Настройти общий размер фигуры — 12x8, цвета в зависимости от ценовой категории — зеленый, оранжевый и красный для низкой, средней и высокой ценовой категории соответственно. Не забудьте подписать название графика и оси, а также вывести легенду для ценовой категории, расположив ее в нижнем правом углу. "
   ]
  },
  {
   "cell_type": "code",
   "execution_count": 89,
   "id": "49b18c89",
   "metadata": {
    "id": "49b18c89"
   },
   "outputs": [
    {
     "data": {
      "image/png": "[encoded data removed]",
      "text/plain": [
       "<Figure size 864x576 with 1 Axes>"
      ]
     },
     "metadata": {
      "needs_background": "light"
     },
     "output_type": "display_data"
    }
   ],
   "source": [
    "# Ваш код здесь\n",
    "fig,ax = plt.subplots(figsize=(12,8))\n",
    "for price_category in colors:\n",
    "    \n",
    "    color = colors[price_category]\n",
    "    data = df_upd2[df_upd2[\"price_category\"]==price_category]\n",
    "    ax.scatter(data.price,data.year, c=color, label=price_category)\n",
    "ax.legend(loc=\"lower right\",title=\"Ценовая категория\")\n",
    "plt.title(\"Диаграмма рассеяния для стоимости автомобиля и его года выпуска\")\n",
    "plt.xlabel(\"Цена\")\n",
    "plt.ylabel(\"Год выпуска\")\n",
    "plt.show;\n"
   ]
  },
  {
   "cell_type": "markdown",
   "id": "c8687ec8",
   "metadata": {
    "ExecuteTime": {
     "end_time": "2022-02-23T22:11:41.696639Z",
     "start_time": "2022-02-23T22:11:41.687798Z"
    },
    "id": "c8687ec8"
   },
   "source": [
    "### Задача 4. Визуализация категориальных переменных\n",
    "\n",
    "1. Сформируйте и отобразите новый датафрейм, в котором будет содержаться статистика о производителе автомобиля и количестве произведенных им автомобилей (воспользуейтесь группировкой). Не забудьте переименовать колонки согласно их содержанию.\n"
   ]
  },
  {
   "cell_type": "code",
   "execution_count": 105,
   "id": "a3da9918",
   "metadata": {
    "id": "a3da9918"
   },
   "outputs": [
    {
     "data": {
      "text/html": [
       "<div>\n",
       "<style scoped>\n",
       "    .dataframe tbody tr th:only-of-type {\n",
       "        vertical-align: middle;\n",
       "    }\n",
       "\n",
       "    .dataframe tbody tr th {\n",
       "        vertical-align: top;\n",
       "    }\n",
       "\n",
       "    .dataframe thead th {\n",
       "        text-align: right;\n",
       "    }\n",
       "</style>\n",
       "<table border=\"1\" class=\"dataframe\">\n",
       "  <thead>\n",
       "    <tr style=\"text-align: right;\">\n",
       "      <th></th>\n",
       "      <th>manufacturer</th>\n",
       "      <th>counts</th>\n",
       "    </tr>\n",
       "  </thead>\n",
       "  <tbody>\n",
       "    <tr>\n",
       "      <th>0</th>\n",
       "      <td>acura</td>\n",
       "      <td>65</td>\n",
       "    </tr>\n",
       "    <tr>\n",
       "      <th>1</th>\n",
       "      <td>alfa-romeo</td>\n",
       "      <td>5</td>\n",
       "    </tr>\n",
       "    <tr>\n",
       "      <th>2</th>\n",
       "      <td>audi</td>\n",
       "      <td>87</td>\n",
       "    </tr>\n",
       "    <tr>\n",
       "      <th>3</th>\n",
       "      <td>bmw</td>\n",
       "      <td>175</td>\n",
       "    </tr>\n",
       "    <tr>\n",
       "      <th>4</th>\n",
       "      <td>buick</td>\n",
       "      <td>85</td>\n",
       "    </tr>\n",
       "  </tbody>\n",
       "</table>\n",
       "</div>"
      ],
      "text/plain": [
       "  manufacturer  counts\n",
       "0        acura      65\n",
       "1   alfa-romeo       5\n",
       "2         audi      87\n",
       "3          bmw     175\n",
       "4        buick      85"
      ]
     },
     "execution_count": 105,
     "metadata": {},
     "output_type": "execute_result"
    }
   ],
   "source": [
    "# Ваш код здесь\n",
    "df_manufacturer = df_upd2.groupby([\"manufacturer\"]).agg({\"manufacturer\":\"count\"})\n",
    "df_manufacturer = df_manufacturer.rename(columns={\"manufacturer\":\"counts\"}).reset_index()\n",
    "df_manufacturer.head()"
   ]
  },
  {
   "cell_type": "markdown",
   "id": "3dffb26d",
   "metadata": {
    "id": "3dffb26d"
   },
   "source": [
    "2. Постройте столбчатую диаграмму для производителей автомобиля, настройте размер фигуры — 20x10, ширину интервалов (`width`) — 0.9, цвета — чередующиеся `springgreen` и `dodgerblue`. Не забудьте подписать название графика и оси.\n",
    "Для оси OX разверните подписи на 45 градусов, используя метод `xticks` и его параметр `rotation`."
   ]
  },
  {
   "cell_type": "code",
   "execution_count": 133,
   "id": "5826e047",
   "metadata": {
    "id": "5826e047"
   },
   "outputs": [
    {
     "data": {
      "image/png": "[encoded data removed]",
      "text/plain": [
       "<Figure size 1440x720 with 1 Axes>"
      ]
     },
     "metadata": {
      "needs_background": "light"
     },
     "output_type": "display_data"
    }
   ],
   "source": [
    "#df_manufacturer.plot(x=\"manufacturer\", y=\"counts\", kind=\"bar\", rot=45, fontsize=4)\n",
    "plt.subplots(figsize=(20,10))\n",
    "plt.bar(df_manufacturer.manufacturer, df_manufacturer.counts, width=0.9, color = [\"springgreen\",\"dodgerblue\"])\n",
    "plt.xticks(rotation=45)\n",
    "plt.title(\"Количество машин по производителю\")\n",
    "plt.ylabel(\"Количество машин\")\n",
    "plt.xlabel(\"Марка/производитель атомобиля\");"
   ]
  },
  {
   "cell_type": "markdown",
   "id": "1ab1179c",
   "metadata": {
    "id": "1ab1179c"
   },
   "source": [
    "3. Сформируйте и отобразите новый датафрейм, в котором будет содержаться статистика о коробке передач автомобиля и количестве автомобилей с такой коробкой передач (воспользуейтесь группировкой). Не забудьте переименовать колонки согласно их содержанию."
   ]
  },
  {
   "cell_type": "code",
   "execution_count": 136,
   "id": "049b89ca",
   "metadata": {
    "id": "049b89ca"
   },
   "outputs": [
    {
     "data": {
      "text/html": [
       "<div>\n",
       "<style scoped>\n",
       "    .dataframe tbody tr th:only-of-type {\n",
       "        vertical-align: middle;\n",
       "    }\n",
       "\n",
       "    .dataframe tbody tr th {\n",
       "        vertical-align: top;\n",
       "    }\n",
       "\n",
       "    .dataframe thead th {\n",
       "        text-align: right;\n",
       "    }\n",
       "</style>\n",
       "<table border=\"1\" class=\"dataframe\">\n",
       "  <thead>\n",
       "    <tr style=\"text-align: right;\">\n",
       "      <th></th>\n",
       "      <th>transmission</th>\n",
       "      <th>counts</th>\n",
       "    </tr>\n",
       "  </thead>\n",
       "  <tbody>\n",
       "    <tr>\n",
       "      <th>0</th>\n",
       "      <td>automatic</td>\n",
       "      <td>3910</td>\n",
       "    </tr>\n",
       "    <tr>\n",
       "      <th>1</th>\n",
       "      <td>manual</td>\n",
       "      <td>302</td>\n",
       "    </tr>\n",
       "    <tr>\n",
       "      <th>2</th>\n",
       "      <td>other</td>\n",
       "      <td>770</td>\n",
       "    </tr>\n",
       "  </tbody>\n",
       "</table>\n",
       "</div>"
      ],
      "text/plain": [
       "  transmission  counts\n",
       "0    automatic    3910\n",
       "1       manual     302\n",
       "2        other     770"
      ]
     },
     "execution_count": 136,
     "metadata": {},
     "output_type": "execute_result"
    }
   ],
   "source": [
    "# Ваш код здесь\n",
    "df_transmission = df_upd2.groupby(\"transmission\").agg({\"transmission\":\"count\"})\n",
    "df_transmission = df_transmission.rename(columns={\"transmission\":\"counts\"}).reset_index()\n",
    "df_transmission"
   ]
  },
  {
   "cell_type": "markdown",
   "id": "49ae74a6",
   "metadata": {
    "id": "49ae74a6"
   },
   "source": [
    "4. Постройте круговую диаграмму для коробки передач автомобиля, настройте размер фигуры — 12x8, формат подписи о соотношении категорий, расстояние от метки о соотношении категорий до края сегмента. Не забудьте подписать название графика и оси, а также вывести легенду отдельно.\n"
   ]
  },
  {
   "cell_type": "code",
   "execution_count": 160,
   "id": "982aeaa8",
   "metadata": {
    "ExecuteTime": {
     "end_time": "2022-02-23T22:24:35.848428Z",
     "start_time": "2022-02-23T22:24:35.845106Z"
    },
    "id": "982aeaa8"
   },
   "outputs": [
    {
     "data": {
      "image/png": "[encoded data removed]",
      "text/plain": [
       "<Figure size 864x576 with 1 Axes>"
      ]
     },
     "metadata": {},
     "output_type": "display_data"
    }
   ],
   "source": [
    "# Ваш код здесь\n",
    "fig1, ax = plt.subplots(figsize=(12,8))\n",
    "ax.pie(df_transmission.counts, labels=df_transmission.transmission, autopct='%1.1f%%', labeldistance=0.7,\\\n",
    "       pctdistance=0.9)\n",
    "ax.axis('equal')\n",
    "ax.legend(loc='upper left', bbox_to_anchor=(0, 1))\n",
    "plt.title(\"Соотношение типов коробки передач\")\n",
    "plt.show();"
   ]
  },
  {
   "cell_type": "code",
   "execution_count": null,
   "id": "69124c15",
   "metadata": {},
   "outputs": [],
   "source": []
  }
 ],
 "metadata": {
  "colab": {
   "collapsed_sections": [],
   "provenance": []
  },
  "kernelspec": {
   "display_name": "Python 3 (ipykernel)",
   "language": "python",
   "name": "python3"
  },
  "language_info": {
   "codemirror_mode": {
    "name": "ipython",
    "version": 3
   },
   "file_extension": ".py",
   "mimetype": "text/x-python",
   "name": "python",
   "nbconvert_exporter": "python",
   "pygments_lexer": "ipython3",
   "version": "3.9.12"
  },
  "toc": {
   "base_numbering": 1,
   "nav_menu": {},
   "number_sections": true,
   "sideBar": true,
   "skip_h1_title": false,
   "title_cell": "Table of Contents",
   "title_sidebar": "Contents",
   "toc_cell": false,
   "toc_position": {},
   "toc_section_display": true,
   "toc_window_display": false
  }
 },
 "nbformat": 4,
 "nbformat_minor": 5
}
